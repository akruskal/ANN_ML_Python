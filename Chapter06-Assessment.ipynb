{
 "cells": [
  {
   "cell_type": "markdown",
   "metadata": {},
   "source": [
    "![alt text](images/HDAT9500Banner.PNG)\n",
    "<br>\n",
    "\n",
    "# Chapter 6: Artificial Neural Networks / Deep Learning\n",
    "# Assignment: Add regularization to a neural network by using Dropout\n",
    "\n",
    "\n",
    "# 1. Introduction\n",
    "\n",
    "In this exercise, we will regularize the dep neural network we built in the previous exercise.\n",
    "\n",
    "\"Dropout works by probabilistically removing, or “dropping out,” inputs to a layer, which may be input variables in the data sample or activations from a previous layer.\"\n",
    "\n",
    "Read:\n",
    "\n",
    "https://machinelearningmastery.com/how-to-reduce-overfitting-with-dropout-regularization-in-keras/\n",
    "\n",
    "In particular, pay attention to the section: MLP Dropout Regularization.\n",
    "\n",
    "\n",
    "## 1.1. Aims of the Exercise:\n",
    "\n",
    "1. This is an introduction to Artificial Neural Networks / Deep Learning with regularization. \n",
    "2. We will use Keras.\n",
    "\n",
    " \n",
    "It aligns with all of the learning outcomes of our course: \n",
    "\n",
    "1.\tDistinguish a range of task specific machine learning techniques appropriate for Health Data Science.\n",
    "2.\tDesign machine learning tasks for Health Data Science scenarios.\n",
    "3.\tConstruct appropriate training and test sets for health research data.\n",
    "\n",
    "\n",
    "## 1.2. Jupyter Notebook Intructions\n",
    "1. Read the content of each cell.\n",
    "2. Where necessary, follow the instructions that are written in each cell.\n",
    "3. Run/Execute all the cells that contain Python code sequentially (one at a time), using the \"Run\" button.\n",
    "4. For those cells in which you are asked to write some code, please write the Python code first and then execute/run the cell.\n",
    " \n",
    "## 1.3. Tips\n",
    " 1. The square brackets on the left hand side of each cell indicate whether the cell has been executed or not. Empty square brackets mean that the cell has not been executed, whereas square brackets that contain a number means that the cell has been executed. Run all the cells in sequence, using the \"Run\" button.\n",
    " 2. To edit this notebook, just double-click in each cell. In the document, each cell can be a \"Code\" cell or \"text-Markdown\" cell. To choose between these two options, go to the combo-box above. \n",
    " 3. If you want to save your notebook, please make sure you press the \"floppy disk\" icon button above. \n",
    " 4. To clean the content of all cells and re-start the Notebook, please go to Cell->All Output->Clear\n"
   ]
  },
  {
   "cell_type": "markdown",
   "metadata": {},
   "source": [
    "# 2. Load the Wisconsin Cancer Data Set and Prepare the data\n",
    "\n",
    "For data dictionary and all information:\n",
    "https://archive.ics.uci.edu/ml/datasets/Breast+Cancer+Wisconsin+(Diagnostic)"
   ]
  },
  {
   "cell_type": "code",
   "execution_count": 2,
   "metadata": {},
   "outputs": [
    {
     "name": "stdout",
     "output_type": "stream",
     "text": [
      "3.6.4 |Anaconda, Inc.| (default, Jan 16 2018, 10:22:32) [MSC v.1900 64 bit (AMD64)]\n"
     ]
    },
    {
     "name": "stderr",
     "output_type": "stream",
     "text": [
      "C:\\Users\\z3368601\\AppData\\Local\\Anacondav3\\lib\\site-packages\\statsmodels\\compat\\pandas.py:56: FutureWarning: The pandas.core.datetools module is deprecated and will be removed in a future version. Please use the pandas.tseries module instead.\n",
      "  from pandas.core import datetools\n"
     ]
    }
   ],
   "source": [
    "import sys\n",
    "print(sys.version)\n",
    "#For this notebook to work, Python must be 3.6.4 or 3.6.5\n",
    "\n",
    "import numpy as np\n",
    "import pandas as pd\n",
    "from IPython.display import display\n",
    "\n",
    "from plotnine import *\n",
    "import matplotlib.pyplot as plt\n",
    "import seaborn as sns"
   ]
  },
  {
   "cell_type": "code",
   "execution_count": 3,
   "metadata": {},
   "outputs": [],
   "source": [
    "cancer = pd.read_csv('data/breast-cancer-wisconsin-data/data.csv', sep=',')"
   ]
  },
  {
   "cell_type": "code",
   "execution_count": 4,
   "metadata": {},
   "outputs": [
    {
     "data": {
      "text/html": [
       "<div>\n",
       "<style scoped>\n",
       "    .dataframe tbody tr th:only-of-type {\n",
       "        vertical-align: middle;\n",
       "    }\n",
       "\n",
       "    .dataframe tbody tr th {\n",
       "        vertical-align: top;\n",
       "    }\n",
       "\n",
       "    .dataframe thead th {\n",
       "        text-align: right;\n",
       "    }\n",
       "</style>\n",
       "<table border=\"1\" class=\"dataframe\">\n",
       "  <thead>\n",
       "    <tr style=\"text-align: right;\">\n",
       "      <th></th>\n",
       "      <th>id</th>\n",
       "      <th>diagnosis</th>\n",
       "      <th>radius_mean</th>\n",
       "      <th>texture_mean</th>\n",
       "      <th>perimeter_mean</th>\n",
       "      <th>area_mean</th>\n",
       "      <th>smoothness_mean</th>\n",
       "      <th>compactness_mean</th>\n",
       "      <th>concavity_mean</th>\n",
       "      <th>concave points_mean</th>\n",
       "      <th>...</th>\n",
       "      <th>radius_worst</th>\n",
       "      <th>texture_worst</th>\n",
       "      <th>perimeter_worst</th>\n",
       "      <th>area_worst</th>\n",
       "      <th>smoothness_worst</th>\n",
       "      <th>compactness_worst</th>\n",
       "      <th>concavity_worst</th>\n",
       "      <th>concave points_worst</th>\n",
       "      <th>symmetry_worst</th>\n",
       "      <th>fractal_dimension_worst</th>\n",
       "    </tr>\n",
       "  </thead>\n",
       "  <tbody>\n",
       "    <tr>\n",
       "      <th>0</th>\n",
       "      <td>842302</td>\n",
       "      <td>M</td>\n",
       "      <td>17.99</td>\n",
       "      <td>10.38</td>\n",
       "      <td>122.80</td>\n",
       "      <td>1001.0</td>\n",
       "      <td>0.11840</td>\n",
       "      <td>0.27760</td>\n",
       "      <td>0.3001</td>\n",
       "      <td>0.14710</td>\n",
       "      <td>...</td>\n",
       "      <td>25.38</td>\n",
       "      <td>17.33</td>\n",
       "      <td>184.60</td>\n",
       "      <td>2019.0</td>\n",
       "      <td>0.1622</td>\n",
       "      <td>0.6656</td>\n",
       "      <td>0.7119</td>\n",
       "      <td>0.2654</td>\n",
       "      <td>0.4601</td>\n",
       "      <td>0.11890</td>\n",
       "    </tr>\n",
       "    <tr>\n",
       "      <th>1</th>\n",
       "      <td>842517</td>\n",
       "      <td>M</td>\n",
       "      <td>20.57</td>\n",
       "      <td>17.77</td>\n",
       "      <td>132.90</td>\n",
       "      <td>1326.0</td>\n",
       "      <td>0.08474</td>\n",
       "      <td>0.07864</td>\n",
       "      <td>0.0869</td>\n",
       "      <td>0.07017</td>\n",
       "      <td>...</td>\n",
       "      <td>24.99</td>\n",
       "      <td>23.41</td>\n",
       "      <td>158.80</td>\n",
       "      <td>1956.0</td>\n",
       "      <td>0.1238</td>\n",
       "      <td>0.1866</td>\n",
       "      <td>0.2416</td>\n",
       "      <td>0.1860</td>\n",
       "      <td>0.2750</td>\n",
       "      <td>0.08902</td>\n",
       "    </tr>\n",
       "    <tr>\n",
       "      <th>2</th>\n",
       "      <td>84300903</td>\n",
       "      <td>M</td>\n",
       "      <td>19.69</td>\n",
       "      <td>21.25</td>\n",
       "      <td>130.00</td>\n",
       "      <td>1203.0</td>\n",
       "      <td>0.10960</td>\n",
       "      <td>0.15990</td>\n",
       "      <td>0.1974</td>\n",
       "      <td>0.12790</td>\n",
       "      <td>...</td>\n",
       "      <td>23.57</td>\n",
       "      <td>25.53</td>\n",
       "      <td>152.50</td>\n",
       "      <td>1709.0</td>\n",
       "      <td>0.1444</td>\n",
       "      <td>0.4245</td>\n",
       "      <td>0.4504</td>\n",
       "      <td>0.2430</td>\n",
       "      <td>0.3613</td>\n",
       "      <td>0.08758</td>\n",
       "    </tr>\n",
       "    <tr>\n",
       "      <th>3</th>\n",
       "      <td>84348301</td>\n",
       "      <td>M</td>\n",
       "      <td>11.42</td>\n",
       "      <td>20.38</td>\n",
       "      <td>77.58</td>\n",
       "      <td>386.1</td>\n",
       "      <td>0.14250</td>\n",
       "      <td>0.28390</td>\n",
       "      <td>0.2414</td>\n",
       "      <td>0.10520</td>\n",
       "      <td>...</td>\n",
       "      <td>14.91</td>\n",
       "      <td>26.50</td>\n",
       "      <td>98.87</td>\n",
       "      <td>567.7</td>\n",
       "      <td>0.2098</td>\n",
       "      <td>0.8663</td>\n",
       "      <td>0.6869</td>\n",
       "      <td>0.2575</td>\n",
       "      <td>0.6638</td>\n",
       "      <td>0.17300</td>\n",
       "    </tr>\n",
       "    <tr>\n",
       "      <th>4</th>\n",
       "      <td>84358402</td>\n",
       "      <td>M</td>\n",
       "      <td>20.29</td>\n",
       "      <td>14.34</td>\n",
       "      <td>135.10</td>\n",
       "      <td>1297.0</td>\n",
       "      <td>0.10030</td>\n",
       "      <td>0.13280</td>\n",
       "      <td>0.1980</td>\n",
       "      <td>0.10430</td>\n",
       "      <td>...</td>\n",
       "      <td>22.54</td>\n",
       "      <td>16.67</td>\n",
       "      <td>152.20</td>\n",
       "      <td>1575.0</td>\n",
       "      <td>0.1374</td>\n",
       "      <td>0.2050</td>\n",
       "      <td>0.4000</td>\n",
       "      <td>0.1625</td>\n",
       "      <td>0.2364</td>\n",
       "      <td>0.07678</td>\n",
       "    </tr>\n",
       "  </tbody>\n",
       "</table>\n",
       "<p>5 rows × 32 columns</p>\n",
       "</div>"
      ],
      "text/plain": [
       "         id diagnosis  radius_mean  texture_mean  perimeter_mean  area_mean  \\\n",
       "0    842302         M        17.99         10.38          122.80     1001.0   \n",
       "1    842517         M        20.57         17.77          132.90     1326.0   \n",
       "2  84300903         M        19.69         21.25          130.00     1203.0   \n",
       "3  84348301         M        11.42         20.38           77.58      386.1   \n",
       "4  84358402         M        20.29         14.34          135.10     1297.0   \n",
       "\n",
       "   smoothness_mean  compactness_mean  concavity_mean  concave points_mean  \\\n",
       "0          0.11840           0.27760          0.3001              0.14710   \n",
       "1          0.08474           0.07864          0.0869              0.07017   \n",
       "2          0.10960           0.15990          0.1974              0.12790   \n",
       "3          0.14250           0.28390          0.2414              0.10520   \n",
       "4          0.10030           0.13280          0.1980              0.10430   \n",
       "\n",
       "            ...             radius_worst  texture_worst  perimeter_worst  \\\n",
       "0           ...                    25.38          17.33           184.60   \n",
       "1           ...                    24.99          23.41           158.80   \n",
       "2           ...                    23.57          25.53           152.50   \n",
       "3           ...                    14.91          26.50            98.87   \n",
       "4           ...                    22.54          16.67           152.20   \n",
       "\n",
       "   area_worst  smoothness_worst  compactness_worst  concavity_worst  \\\n",
       "0      2019.0            0.1622             0.6656           0.7119   \n",
       "1      1956.0            0.1238             0.1866           0.2416   \n",
       "2      1709.0            0.1444             0.4245           0.4504   \n",
       "3       567.7            0.2098             0.8663           0.6869   \n",
       "4      1575.0            0.1374             0.2050           0.4000   \n",
       "\n",
       "   concave points_worst  symmetry_worst  fractal_dimension_worst  \n",
       "0                0.2654          0.4601                  0.11890  \n",
       "1                0.1860          0.2750                  0.08902  \n",
       "2                0.2430          0.3613                  0.08758  \n",
       "3                0.2575          0.6638                  0.17300  \n",
       "4                0.1625          0.2364                  0.07678  \n",
       "\n",
       "[5 rows x 32 columns]"
      ]
     },
     "metadata": {},
     "output_type": "display_data"
    },
    {
     "name": "stdout",
     "output_type": "stream",
     "text": [
      "(569, 32)\n"
     ]
    }
   ],
   "source": [
    "# Sanity Check:\n",
    "display(cancer[:][:5])\n",
    "print(cancer.shape)"
   ]
  },
  {
   "cell_type": "code",
   "execution_count": 5,
   "metadata": {
    "scrolled": true
   },
   "outputs": [
    {
     "data": {
      "text/plain": [
       "id                           int64\n",
       "diagnosis                   object\n",
       "radius_mean                float64\n",
       "texture_mean               float64\n",
       "perimeter_mean             float64\n",
       "area_mean                  float64\n",
       "smoothness_mean            float64\n",
       "compactness_mean           float64\n",
       "concavity_mean             float64\n",
       "concave points_mean        float64\n",
       "symmetry_mean              float64\n",
       "fractal_dimension_mean     float64\n",
       "radius_se                  float64\n",
       "texture_se                 float64\n",
       "perimeter_se               float64\n",
       "area_se                    float64\n",
       "smoothness_se              float64\n",
       "compactness_se             float64\n",
       "concavity_se               float64\n",
       "concave points_se          float64\n",
       "symmetry_se                float64\n",
       "fractal_dimension_se       float64\n",
       "radius_worst               float64\n",
       "texture_worst              float64\n",
       "perimeter_worst            float64\n",
       "area_worst                 float64\n",
       "smoothness_worst           float64\n",
       "compactness_worst          float64\n",
       "concavity_worst            float64\n",
       "concave points_worst       float64\n",
       "symmetry_worst             float64\n",
       "fractal_dimension_worst    float64\n",
       "dtype: object"
      ]
     },
     "execution_count": 5,
     "metadata": {},
     "output_type": "execute_result"
    }
   ],
   "source": [
    "cancer.dtypes"
   ]
  },
  {
   "cell_type": "code",
   "execution_count": 6,
   "metadata": {},
   "outputs": [],
   "source": [
    "# Divide the data into X and y (output, labels)\n",
    "X = cancer.iloc[:, 2:].values\n",
    "y_categorical = cancer.iloc[:, 1].values"
   ]
  },
  {
   "cell_type": "code",
   "execution_count": 7,
   "metadata": {},
   "outputs": [
    {
     "data": {
      "text/plain": [
       "array([[  1.79900000e+01,   1.03800000e+01,   1.22800000e+02,\n",
       "          1.00100000e+03,   1.18400000e-01,   2.77600000e-01,\n",
       "          3.00100000e-01,   1.47100000e-01,   2.41900000e-01,\n",
       "          7.87100000e-02,   1.09500000e+00,   9.05300000e-01,\n",
       "          8.58900000e+00,   1.53400000e+02,   6.39900000e-03,\n",
       "          4.90400000e-02,   5.37300000e-02,   1.58700000e-02,\n",
       "          3.00300000e-02,   6.19300000e-03,   2.53800000e+01,\n",
       "          1.73300000e+01,   1.84600000e+02,   2.01900000e+03,\n",
       "          1.62200000e-01,   6.65600000e-01,   7.11900000e-01,\n",
       "          2.65400000e-01,   4.60100000e-01,   1.18900000e-01],\n",
       "       [  2.05700000e+01,   1.77700000e+01,   1.32900000e+02,\n",
       "          1.32600000e+03,   8.47400000e-02,   7.86400000e-02,\n",
       "          8.69000000e-02,   7.01700000e-02,   1.81200000e-01,\n",
       "          5.66700000e-02,   5.43500000e-01,   7.33900000e-01,\n",
       "          3.39800000e+00,   7.40800000e+01,   5.22500000e-03,\n",
       "          1.30800000e-02,   1.86000000e-02,   1.34000000e-02,\n",
       "          1.38900000e-02,   3.53200000e-03,   2.49900000e+01,\n",
       "          2.34100000e+01,   1.58800000e+02,   1.95600000e+03,\n",
       "          1.23800000e-01,   1.86600000e-01,   2.41600000e-01,\n",
       "          1.86000000e-01,   2.75000000e-01,   8.90200000e-02],\n",
       "       [  1.96900000e+01,   2.12500000e+01,   1.30000000e+02,\n",
       "          1.20300000e+03,   1.09600000e-01,   1.59900000e-01,\n",
       "          1.97400000e-01,   1.27900000e-01,   2.06900000e-01,\n",
       "          5.99900000e-02,   7.45600000e-01,   7.86900000e-01,\n",
       "          4.58500000e+00,   9.40300000e+01,   6.15000000e-03,\n",
       "          4.00600000e-02,   3.83200000e-02,   2.05800000e-02,\n",
       "          2.25000000e-02,   4.57100000e-03,   2.35700000e+01,\n",
       "          2.55300000e+01,   1.52500000e+02,   1.70900000e+03,\n",
       "          1.44400000e-01,   4.24500000e-01,   4.50400000e-01,\n",
       "          2.43000000e-01,   3.61300000e-01,   8.75800000e-02],\n",
       "       [  1.14200000e+01,   2.03800000e+01,   7.75800000e+01,\n",
       "          3.86100000e+02,   1.42500000e-01,   2.83900000e-01,\n",
       "          2.41400000e-01,   1.05200000e-01,   2.59700000e-01,\n",
       "          9.74400000e-02,   4.95600000e-01,   1.15600000e+00,\n",
       "          3.44500000e+00,   2.72300000e+01,   9.11000000e-03,\n",
       "          7.45800000e-02,   5.66100000e-02,   1.86700000e-02,\n",
       "          5.96300000e-02,   9.20800000e-03,   1.49100000e+01,\n",
       "          2.65000000e+01,   9.88700000e+01,   5.67700000e+02,\n",
       "          2.09800000e-01,   8.66300000e-01,   6.86900000e-01,\n",
       "          2.57500000e-01,   6.63800000e-01,   1.73000000e-01],\n",
       "       [  2.02900000e+01,   1.43400000e+01,   1.35100000e+02,\n",
       "          1.29700000e+03,   1.00300000e-01,   1.32800000e-01,\n",
       "          1.98000000e-01,   1.04300000e-01,   1.80900000e-01,\n",
       "          5.88300000e-02,   7.57200000e-01,   7.81300000e-01,\n",
       "          5.43800000e+00,   9.44400000e+01,   1.14900000e-02,\n",
       "          2.46100000e-02,   5.68800000e-02,   1.88500000e-02,\n",
       "          1.75600000e-02,   5.11500000e-03,   2.25400000e+01,\n",
       "          1.66700000e+01,   1.52200000e+02,   1.57500000e+03,\n",
       "          1.37400000e-01,   2.05000000e-01,   4.00000000e-01,\n",
       "          1.62500000e-01,   2.36400000e-01,   7.67800000e-02]])"
      ]
     },
     "metadata": {},
     "output_type": "display_data"
    }
   ],
   "source": [
    "# Sanity check\n",
    "display(X[:][:5])"
   ]
  },
  {
   "cell_type": "markdown",
   "metadata": {},
   "source": [
    "Pay attention to the shape of the input vector!!!!\n",
    "We will use it later in our ANN."
   ]
  },
  {
   "cell_type": "code",
   "execution_count": 8,
   "metadata": {},
   "outputs": [
    {
     "name": "stdout",
     "output_type": "stream",
     "text": [
      "(569, 30)\n"
     ]
    }
   ],
   "source": [
    " print(X.shape)"
   ]
  },
  {
   "cell_type": "code",
   "execution_count": 9,
   "metadata": {},
   "outputs": [
    {
     "data": {
      "text/plain": [
       "array(['M', 'M', 'M', 'M', 'M', 'M', 'M', 'M', 'M', 'M', 'M', 'M', 'M',\n",
       "       'M', 'M', 'M', 'M', 'M', 'M', 'B', 'B', 'B', 'M', 'M', 'M', 'M',\n",
       "       'M', 'M', 'M', 'M'], dtype=object)"
      ]
     },
     "metadata": {},
     "output_type": "display_data"
    },
    {
     "name": "stdout",
     "output_type": "stream",
     "text": [
      "(569,)\n"
     ]
    }
   ],
   "source": [
    "# Sanity check:\n",
    "# We can see that # 19, 20 and 21 are B within the array that goes from 0:29\n",
    "display(y_categorical[:30])\n",
    "print(y_categorical.shape)"
   ]
  },
  {
   "cell_type": "markdown",
   "metadata": {},
   "source": [
    "Enconding categorical data into 0-1"
   ]
  },
  {
   "cell_type": "code",
   "execution_count": 10,
   "metadata": {},
   "outputs": [],
   "source": [
    "# Encoding categorical data\n",
    "from sklearn.preprocessing import LabelEncoder\n",
    "labelencoder_X_1 = LabelEncoder()\n",
    "y = labelencoder_X_1.fit_transform(y_categorical)"
   ]
  },
  {
   "cell_type": "code",
   "execution_count": 11,
   "metadata": {},
   "outputs": [
    {
     "data": {
      "text/plain": [
       "array([1, 1, 1, 1, 1, 1, 1, 1, 1, 1, 1, 1, 1, 1, 1, 1, 1, 1, 1, 0, 0, 0, 1,\n",
       "       1, 1, 1, 1, 1, 1, 1], dtype=int64)"
      ]
     },
     "metadata": {},
     "output_type": "display_data"
    },
    {
     "name": "stdout",
     "output_type": "stream",
     "text": [
      "(569,)\n"
     ]
    }
   ],
   "source": [
    "# Sanity check\n",
    "# We can see that # 19, 20 and 21 are \"0\" within the array that goes from 0:29\n",
    "# Therefore, the sanity check confirms that we have done the encoding correctly\n",
    "display(y[:30])\n",
    "print(y.shape)"
   ]
  },
  {
   "cell_type": "markdown",
   "metadata": {},
   "source": [
    "Splitting the dataset into the Training set and Test set"
   ]
  },
  {
   "cell_type": "code",
   "execution_count": 12,
   "metadata": {},
   "outputs": [],
   "source": [
    "# Splitting the dataset into the Training set and Test set\n",
    "from sklearn.model_selection import train_test_split\n",
    "X_train, X_test, y_train, y_test = train_test_split(X, y, test_size = 0.1, random_state = 0)"
   ]
  },
  {
   "cell_type": "markdown",
   "metadata": {},
   "source": [
    "<font color=red>Scaling</font>  our data is <font color=red> very important </font> when we use ANNs:"
   ]
  },
  {
   "cell_type": "code",
   "execution_count": 13,
   "metadata": {},
   "outputs": [],
   "source": [
    "# Very very very important: Feature Scaling\n",
    "from sklearn.preprocessing import StandardScaler\n",
    "sc = StandardScaler()\n",
    "X_train = sc.fit_transform(X_train)\n",
    "X_test = sc.transform(X_test)"
   ]
  },
  {
   "cell_type": "markdown",
   "metadata": {},
   "source": [
    "So far, everything is very familiar. We have used some new scikit learn instructions, but esentially, we have been following these steps during the course.\n",
    "\n",
    "The new part starts here:"
   ]
  },
  {
   "cell_type": "markdown",
   "metadata": {},
   "source": [
    "# 3. Our first ANN using Keras\n"
   ]
  },
  {
   "cell_type": "code",
   "execution_count": 14,
   "metadata": {},
   "outputs": [
    {
     "name": "stderr",
     "output_type": "stream",
     "text": [
      "Using TensorFlow backend.\n"
     ]
    }
   ],
   "source": [
    "import keras\n",
    "from keras.models import Sequential\n",
    "from keras.layers import Dense, Dropout, Activation"
   ]
  },
  {
   "cell_type": "markdown",
   "metadata": {},
   "source": [
    "<div class=\"alert alert-block alert-success\">**Start Activity**</div>"
   ]
  },
  {
   "cell_type": "markdown",
   "metadata": {},
   "source": [
    "### <font color='blue'> Question 1: Add dropout regularization to the two hidden layers. Choose an appropriate value for the reguralization. (70 marks) </font>"
   ]
  },
  {
   "cell_type": "code",
   "execution_count": 31,
   "metadata": {},
   "outputs": [],
   "source": [
    "# Write Python Code here:\n",
    "ann2  = Sequential()"
   ]
  },
  {
   "cell_type": "code",
   "execution_count": 32,
   "metadata": {},
   "outputs": [
    {
     "name": "stderr",
     "output_type": "stream",
     "text": [
      "C:\\Users\\z3368601\\AppData\\Local\\Anacondav3\\lib\\site-packages\\ipykernel_launcher.py:2: UserWarning: Update your `Dense` call to the Keras 2 API: `Dense(input_dim=30, units=16)`\n",
      "  \n"
     ]
    }
   ],
   "source": [
    "# Write Python Code here:\n",
    "ann2.add(Dense(output_dim=16, input_dim=30))\n",
    "ann2.add(Activation('relu'))\n",
    "ann2.add(Dropout(0.2))"
   ]
  },
  {
   "cell_type": "code",
   "execution_count": 33,
   "metadata": {},
   "outputs": [
    {
     "name": "stderr",
     "output_type": "stream",
     "text": [
      "C:\\Users\\z3368601\\AppData\\Local\\Anacondav3\\lib\\site-packages\\ipykernel_launcher.py:2: UserWarning: Update your `Dense` call to the Keras 2 API: `Dense(activation=\"relu\", units=16)`\n",
      "  \n"
     ]
    }
   ],
   "source": [
    "# Write Python Code here:\n",
    "ann2.add(Dense(output_dim=16, activation='relu'))\n",
    "ann2.add(Dropout(0.2))\n"
   ]
  },
  {
   "cell_type": "code",
   "execution_count": 34,
   "metadata": {},
   "outputs": [
    {
     "name": "stderr",
     "output_type": "stream",
     "text": [
      "C:\\Users\\z3368601\\AppData\\Local\\Anacondav3\\lib\\site-packages\\ipykernel_launcher.py:2: UserWarning: Update your `Dense` call to the Keras 2 API: `Dense(activation=\"sigmoid\", units=1, kernel_initializer=\"uniform\")`\n",
      "  \n"
     ]
    }
   ],
   "source": [
    "# Write Python Code here:\n",
    "ann2.add(Dense(output_dim=1, init='uniform', activation='sigmoid'))\n"
   ]
  },
  {
   "cell_type": "code",
   "execution_count": 35,
   "metadata": {},
   "outputs": [],
   "source": [
    "# Write Python Code here:\n",
    "# Compiling the ANN\n",
    "ann2.compile(optimizer='adam', loss='binary_crossentropy', metrics=['accuracy'])"
   ]
  },
  {
   "cell_type": "code",
   "execution_count": 36,
   "metadata": {},
   "outputs": [
    {
     "name": "stderr",
     "output_type": "stream",
     "text": [
      "C:\\Users\\z3368601\\AppData\\Local\\Anacondav3\\lib\\site-packages\\ipykernel_launcher.py:2: UserWarning: The `nb_epoch` argument in `fit` has been renamed `epochs`.\n",
      "  \n"
     ]
    },
    {
     "name": "stdout",
     "output_type": "stream",
     "text": [
      "Epoch 1/150\n",
      "512/512 [==============================] - 0s 689us/step - loss: 0.6829 - acc: 0.6797\n",
      "Epoch 2/150\n",
      "512/512 [==============================] - 0s 29us/step - loss: 0.6712 - acc: 0.8027\n",
      "Epoch 3/150\n",
      "512/512 [==============================] - 0s 27us/step - loss: 0.6622 - acc: 0.8379\n",
      "Epoch 4/150\n",
      "512/512 [==============================] - 0s 25us/step - loss: 0.6465 - acc: 0.9043\n",
      "Epoch 5/150\n",
      "512/512 [==============================] - 0s 33us/step - loss: 0.6333 - acc: 0.9121\n",
      "Epoch 6/150\n",
      "512/512 [==============================] - 0s 23us/step - loss: 0.6162 - acc: 0.9238\n",
      "Epoch 7/150\n",
      "512/512 [==============================] - 0s 31us/step - loss: 0.5898 - acc: 0.9316\n",
      "Epoch 8/150\n",
      "512/512 [==============================] - 0s 29us/step - loss: 0.5681 - acc: 0.9160\n",
      "Epoch 9/150\n",
      "512/512 [==============================] - 0s 39us/step - loss: 0.5307 - acc: 0.9395\n",
      "Epoch 10/150\n",
      "512/512 [==============================] - 0s 21us/step - loss: 0.4927 - acc: 0.9355\n",
      "Epoch 11/150\n",
      "512/512 [==============================] - 0s 29us/step - loss: 0.4558 - acc: 0.9512\n",
      "Epoch 12/150\n",
      "512/512 [==============================] - 0s 27us/step - loss: 0.4138 - acc: 0.9414\n",
      "Epoch 13/150\n",
      "512/512 [==============================] - 0s 31us/step - loss: 0.3709 - acc: 0.9473\n",
      "Epoch 14/150\n",
      "512/512 [==============================] - 0s 29us/step - loss: 0.3349 - acc: 0.9453\n",
      "Epoch 15/150\n",
      "512/512 [==============================] - 0s 29us/step - loss: 0.2987 - acc: 0.9414\n",
      "Epoch 16/150\n",
      "512/512 [==============================] - 0s 25us/step - loss: 0.2648 - acc: 0.9414\n",
      "Epoch 17/150\n",
      "512/512 [==============================] - 0s 31us/step - loss: 0.2387 - acc: 0.9473\n",
      "Epoch 18/150\n",
      "512/512 [==============================] - 0s 29us/step - loss: 0.2141 - acc: 0.9609\n",
      "Epoch 19/150\n",
      "512/512 [==============================] - 0s 21us/step - loss: 0.1922 - acc: 0.9551\n",
      "Epoch 20/150\n",
      "512/512 [==============================] - 0s 20us/step - loss: 0.1770 - acc: 0.9629\n",
      "Epoch 21/150\n",
      "512/512 [==============================] - 0s 29us/step - loss: 0.1686 - acc: 0.9570\n",
      "Epoch 22/150\n",
      "512/512 [==============================] - 0s 29us/step - loss: 0.1624 - acc: 0.9590\n",
      "Epoch 23/150\n",
      "512/512 [==============================] - 0s 31us/step - loss: 0.1383 - acc: 0.9766\n",
      "Epoch 24/150\n",
      "512/512 [==============================] - 0s 29us/step - loss: 0.1327 - acc: 0.9668\n",
      "Epoch 25/150\n",
      "512/512 [==============================] - 0s 29us/step - loss: 0.1374 - acc: 0.9648\n",
      "Epoch 26/150\n",
      "512/512 [==============================] - 0s 27us/step - loss: 0.1269 - acc: 0.9707\n",
      "Epoch 27/150\n",
      "512/512 [==============================] - 0s 33us/step - loss: 0.1165 - acc: 0.9707\n",
      "Epoch 28/150\n",
      "512/512 [==============================] - 0s 27us/step - loss: 0.1109 - acc: 0.9727\n",
      "Epoch 29/150\n",
      "512/512 [==============================] - 0s 29us/step - loss: 0.1138 - acc: 0.9688\n",
      "Epoch 30/150\n",
      "512/512 [==============================] - 0s 31us/step - loss: 0.1124 - acc: 0.9687\n",
      "Epoch 31/150\n",
      "512/512 [==============================] - 0s 21us/step - loss: 0.1050 - acc: 0.9707\n",
      "Epoch 32/150\n",
      "512/512 [==============================] - 0s 25us/step - loss: 0.1064 - acc: 0.9687\n",
      "Epoch 33/150\n",
      "512/512 [==============================] - 0s 33us/step - loss: 0.1032 - acc: 0.9707\n",
      "Epoch 34/150\n",
      "512/512 [==============================] - 0s 31us/step - loss: 0.0930 - acc: 0.9785\n",
      "Epoch 35/150\n",
      "512/512 [==============================] - 0s 33us/step - loss: 0.0990 - acc: 0.9707\n",
      "Epoch 36/150\n",
      "512/512 [==============================] - 0s 20us/step - loss: 0.0939 - acc: 0.9766\n",
      "Epoch 37/150\n",
      "512/512 [==============================] - 0s 29us/step - loss: 0.0930 - acc: 0.9766\n",
      "Epoch 38/150\n",
      "512/512 [==============================] - 0s 25us/step - loss: 0.0883 - acc: 0.9785\n",
      "Epoch 39/150\n",
      "512/512 [==============================] - 0s 20us/step - loss: 0.0854 - acc: 0.9805\n",
      "Epoch 40/150\n",
      "512/512 [==============================] - 0s 21us/step - loss: 0.0934 - acc: 0.9746\n",
      "Epoch 41/150\n",
      "512/512 [==============================] - 0s 29us/step - loss: 0.0872 - acc: 0.9727\n",
      "Epoch 42/150\n",
      "512/512 [==============================] - 0s 33us/step - loss: 0.0873 - acc: 0.9746\n",
      "Epoch 43/150\n",
      "512/512 [==============================] - 0s 25us/step - loss: 0.0855 - acc: 0.9766\n",
      "Epoch 44/150\n",
      "512/512 [==============================] - 0s 23us/step - loss: 0.0794 - acc: 0.9805\n",
      "Epoch 45/150\n",
      "512/512 [==============================] - 0s 41us/step - loss: 0.0754 - acc: 0.9844\n",
      "Epoch 46/150\n",
      "512/512 [==============================] - 0s 29us/step - loss: 0.0760 - acc: 0.9785\n",
      "Epoch 47/150\n",
      "512/512 [==============================] - 0s 23us/step - loss: 0.0812 - acc: 0.9824\n",
      "Epoch 48/150\n",
      "512/512 [==============================] - 0s 29us/step - loss: 0.0860 - acc: 0.9785\n",
      "Epoch 49/150\n",
      "512/512 [==============================] - 0s 29us/step - loss: 0.0820 - acc: 0.9707\n",
      "Epoch 50/150\n",
      "512/512 [==============================] - 0s 21us/step - loss: 0.0849 - acc: 0.9766\n",
      "Epoch 51/150\n",
      "512/512 [==============================] - 0s 27us/step - loss: 0.0743 - acc: 0.9805\n",
      "Epoch 52/150\n",
      "512/512 [==============================] - 0s 25us/step - loss: 0.0814 - acc: 0.9766\n",
      "Epoch 53/150\n",
      "512/512 [==============================] - 0s 23us/step - loss: 0.0743 - acc: 0.9805\n",
      "Epoch 54/150\n",
      "512/512 [==============================] - 0s 21us/step - loss: 0.0770 - acc: 0.9805\n",
      "Epoch 55/150\n",
      "512/512 [==============================] - 0s 21us/step - loss: 0.0827 - acc: 0.9727\n",
      "Epoch 56/150\n",
      "512/512 [==============================] - 0s 20us/step - loss: 0.0741 - acc: 0.9805\n",
      "Epoch 57/150\n",
      "512/512 [==============================] - 0s 25us/step - loss: 0.0708 - acc: 0.9785\n",
      "Epoch 58/150\n",
      "512/512 [==============================] - 0s 25us/step - loss: 0.0714 - acc: 0.9824\n",
      "Epoch 59/150\n",
      "512/512 [==============================] - 0s 23us/step - loss: 0.0700 - acc: 0.9785\n",
      "Epoch 60/150\n",
      "512/512 [==============================] - 0s 27us/step - loss: 0.0714 - acc: 0.9844\n",
      "Epoch 61/150\n",
      "512/512 [==============================] - 0s 21us/step - loss: 0.0721 - acc: 0.9805\n",
      "Epoch 62/150\n",
      "512/512 [==============================] - 0s 20us/step - loss: 0.0711 - acc: 0.9824\n",
      "Epoch 63/150\n",
      "512/512 [==============================] - 0s 20us/step - loss: 0.0748 - acc: 0.9785\n",
      "Epoch 64/150\n",
      "512/512 [==============================] - 0s 27us/step - loss: 0.0749 - acc: 0.9766\n",
      "Epoch 65/150\n",
      "512/512 [==============================] - 0s 29us/step - loss: 0.0689 - acc: 0.9805\n",
      "Epoch 66/150\n",
      "512/512 [==============================] - 0s 27us/step - loss: 0.0689 - acc: 0.9844\n",
      "Epoch 67/150\n",
      "512/512 [==============================] - 0s 18us/step - loss: 0.0792 - acc: 0.9766\n",
      "Epoch 68/150\n",
      "512/512 [==============================] - 0s 29us/step - loss: 0.0638 - acc: 0.9844\n",
      "Epoch 69/150\n",
      "512/512 [==============================] - 0s 20us/step - loss: 0.0695 - acc: 0.9824\n",
      "Epoch 70/150\n",
      "512/512 [==============================] - 0s 21us/step - loss: 0.0653 - acc: 0.9766\n",
      "Epoch 71/150\n",
      "512/512 [==============================] - 0s 23us/step - loss: 0.0632 - acc: 0.9824\n",
      "Epoch 72/150\n",
      "512/512 [==============================] - 0s 20us/step - loss: 0.0685 - acc: 0.9805\n",
      "Epoch 73/150\n",
      "512/512 [==============================] - 0s 21us/step - loss: 0.0639 - acc: 0.9824\n",
      "Epoch 74/150\n",
      "512/512 [==============================] - 0s 21us/step - loss: 0.0642 - acc: 0.9805\n",
      "Epoch 75/150\n",
      "512/512 [==============================] - 0s 35us/step - loss: 0.0660 - acc: 0.9824\n",
      "Epoch 76/150\n",
      "512/512 [==============================] - 0s 25us/step - loss: 0.0627 - acc: 0.9844\n",
      "Epoch 77/150\n",
      "512/512 [==============================] - 0s 18us/step - loss: 0.0670 - acc: 0.9844\n",
      "Epoch 78/150\n",
      "512/512 [==============================] - 0s 27us/step - loss: 0.0669 - acc: 0.9805\n",
      "Epoch 79/150\n",
      "512/512 [==============================] - 0s 23us/step - loss: 0.0645 - acc: 0.9824\n",
      "Epoch 80/150\n",
      "512/512 [==============================] - 0s 27us/step - loss: 0.0694 - acc: 0.9844\n",
      "Epoch 81/150\n",
      "512/512 [==============================] - 0s 25us/step - loss: 0.0655 - acc: 0.9824\n",
      "Epoch 82/150\n",
      "512/512 [==============================] - 0s 23us/step - loss: 0.0569 - acc: 0.9824\n",
      "Epoch 83/150\n",
      "512/512 [==============================] - 0s 25us/step - loss: 0.0615 - acc: 0.9824\n",
      "Epoch 84/150\n"
     ]
    },
    {
     "name": "stdout",
     "output_type": "stream",
     "text": [
      "512/512 [==============================] - 0s 25us/step - loss: 0.0617 - acc: 0.9805\n",
      "Epoch 85/150\n",
      "512/512 [==============================] - 0s 21us/step - loss: 0.0688 - acc: 0.9805\n",
      "Epoch 86/150\n",
      "512/512 [==============================] - 0s 20us/step - loss: 0.0599 - acc: 0.9844\n",
      "Epoch 87/150\n",
      "512/512 [==============================] - 0s 20us/step - loss: 0.0648 - acc: 0.9824\n",
      "Epoch 88/150\n",
      "512/512 [==============================] - 0s 27us/step - loss: 0.0734 - acc: 0.9805\n",
      "Epoch 89/150\n",
      "512/512 [==============================] - 0s 23us/step - loss: 0.0692 - acc: 0.9805\n",
      "Epoch 90/150\n",
      "512/512 [==============================] - 0s 27us/step - loss: 0.0628 - acc: 0.9824\n",
      "Epoch 91/150\n",
      "512/512 [==============================] - 0s 25us/step - loss: 0.0630 - acc: 0.9805\n",
      "Epoch 92/150\n",
      "512/512 [==============================] - 0s 43us/step - loss: 0.0715 - acc: 0.9805\n",
      "Epoch 93/150\n",
      "512/512 [==============================] - 0s 21us/step - loss: 0.0641 - acc: 0.9805\n",
      "Epoch 94/150\n",
      "512/512 [==============================] - 0s 23us/step - loss: 0.0558 - acc: 0.9844\n",
      "Epoch 95/150\n",
      "512/512 [==============================] - 0s 23us/step - loss: 0.0572 - acc: 0.9844\n",
      "Epoch 96/150\n",
      "512/512 [==============================] - 0s 27us/step - loss: 0.0520 - acc: 0.9844\n",
      "Epoch 97/150\n",
      "512/512 [==============================] - 0s 20us/step - loss: 0.0607 - acc: 0.9785\n",
      "Epoch 98/150\n",
      "512/512 [==============================] - 0s 27us/step - loss: 0.0589 - acc: 0.9805\n",
      "Epoch 99/150\n",
      "512/512 [==============================] - 0s 31us/step - loss: 0.0581 - acc: 0.9785\n",
      "Epoch 100/150\n",
      "512/512 [==============================] - 0s 61us/step - loss: 0.0514 - acc: 0.9824\n",
      "Epoch 101/150\n",
      "512/512 [==============================] - 0s 23us/step - loss: 0.0596 - acc: 0.9863\n",
      "Epoch 102/150\n",
      "512/512 [==============================] - 0s 33us/step - loss: 0.0538 - acc: 0.9844\n",
      "Epoch 103/150\n",
      "512/512 [==============================] - 0s 31us/step - loss: 0.0601 - acc: 0.9863\n",
      "Epoch 104/150\n",
      "512/512 [==============================] - 0s 21us/step - loss: 0.0545 - acc: 0.9883\n",
      "Epoch 105/150\n",
      "512/512 [==============================] - 0s 25us/step - loss: 0.0506 - acc: 0.9844\n",
      "Epoch 106/150\n",
      "512/512 [==============================] - 0s 23us/step - loss: 0.0626 - acc: 0.9824\n",
      "Epoch 107/150\n",
      "512/512 [==============================] - 0s 31us/step - loss: 0.0531 - acc: 0.9844\n",
      "Epoch 108/150\n",
      "512/512 [==============================] - 0s 31us/step - loss: 0.0532 - acc: 0.9844\n",
      "Epoch 109/150\n",
      "512/512 [==============================] - 0s 21us/step - loss: 0.0546 - acc: 0.9883\n",
      "Epoch 110/150\n",
      "512/512 [==============================] - 0s 33us/step - loss: 0.0580 - acc: 0.9844\n",
      "Epoch 111/150\n",
      "512/512 [==============================] - 0s 20us/step - loss: 0.0580 - acc: 0.9805\n",
      "Epoch 112/150\n",
      "512/512 [==============================] - 0s 31us/step - loss: 0.0536 - acc: 0.9805\n",
      "Epoch 113/150\n",
      "512/512 [==============================] - 0s 31us/step - loss: 0.0536 - acc: 0.9844\n",
      "Epoch 114/150\n",
      "512/512 [==============================] - 0s 25us/step - loss: 0.0524 - acc: 0.9863\n",
      "Epoch 115/150\n",
      "512/512 [==============================] - 0s 23us/step - loss: 0.0586 - acc: 0.9844\n",
      "Epoch 116/150\n",
      "512/512 [==============================] - 0s 21us/step - loss: 0.0527 - acc: 0.9863\n",
      "Epoch 117/150\n",
      "512/512 [==============================] - 0s 25us/step - loss: 0.0546 - acc: 0.9824\n",
      "Epoch 118/150\n",
      "512/512 [==============================] - 0s 21us/step - loss: 0.0535 - acc: 0.9785\n",
      "Epoch 119/150\n",
      "512/512 [==============================] - 0s 29us/step - loss: 0.0558 - acc: 0.9824\n",
      "Epoch 120/150\n",
      "512/512 [==============================] - 0s 23us/step - loss: 0.0517 - acc: 0.9844\n",
      "Epoch 121/150\n",
      "512/512 [==============================] - 0s 23us/step - loss: 0.0578 - acc: 0.9824\n",
      "Epoch 122/150\n",
      "512/512 [==============================] - 0s 33us/step - loss: 0.0492 - acc: 0.9863\n",
      "Epoch 123/150\n",
      "512/512 [==============================] - 0s 27us/step - loss: 0.0512 - acc: 0.9844\n",
      "Epoch 124/150\n",
      "512/512 [==============================] - 0s 25us/step - loss: 0.0487 - acc: 0.9863\n",
      "Epoch 125/150\n",
      "512/512 [==============================] - 0s 21us/step - loss: 0.0519 - acc: 0.9922\n",
      "Epoch 126/150\n",
      "512/512 [==============================] - 0s 20us/step - loss: 0.0578 - acc: 0.9844\n",
      "Epoch 127/150\n",
      "512/512 [==============================] - 0s 27us/step - loss: 0.0536 - acc: 0.9863\n",
      "Epoch 128/150\n",
      "512/512 [==============================] - 0s 27us/step - loss: 0.0546 - acc: 0.9863\n",
      "Epoch 129/150\n",
      "512/512 [==============================] - 0s 29us/step - loss: 0.0491 - acc: 0.9883\n",
      "Epoch 130/150\n",
      "512/512 [==============================] - 0s 27us/step - loss: 0.0446 - acc: 0.9883\n",
      "Epoch 131/150\n",
      "512/512 [==============================] - 0s 23us/step - loss: 0.0545 - acc: 0.9844\n",
      "Epoch 132/150\n",
      "512/512 [==============================] - 0s 23us/step - loss: 0.0568 - acc: 0.9824\n",
      "Epoch 133/150\n",
      "512/512 [==============================] - 0s 23us/step - loss: 0.0453 - acc: 0.9863\n",
      "Epoch 134/150\n",
      "512/512 [==============================] - 0s 25us/step - loss: 0.0516 - acc: 0.9863\n",
      "Epoch 135/150\n",
      "512/512 [==============================] - 0s 25us/step - loss: 0.0488 - acc: 0.9863\n",
      "Epoch 136/150\n",
      "512/512 [==============================] - 0s 25us/step - loss: 0.0518 - acc: 0.9785\n",
      "Epoch 137/150\n",
      "512/512 [==============================] - 0s 29us/step - loss: 0.0527 - acc: 0.9863\n",
      "Epoch 138/150\n",
      "512/512 [==============================] - 0s 27us/step - loss: 0.0502 - acc: 0.9883\n",
      "Epoch 139/150\n",
      "512/512 [==============================] - 0s 29us/step - loss: 0.0492 - acc: 0.9844\n",
      "Epoch 140/150\n",
      "512/512 [==============================] - 0s 29us/step - loss: 0.0535 - acc: 0.9824\n",
      "Epoch 141/150\n",
      "512/512 [==============================] - 0s 20us/step - loss: 0.0465 - acc: 0.9863\n",
      "Epoch 142/150\n",
      "512/512 [==============================] - 0s 31us/step - loss: 0.0507 - acc: 0.9863\n",
      "Epoch 143/150\n",
      "512/512 [==============================] - 0s 29us/step - loss: 0.0477 - acc: 0.9863\n",
      "Epoch 144/150\n",
      "512/512 [==============================] - 0s 25us/step - loss: 0.0507 - acc: 0.9902\n",
      "Epoch 145/150\n",
      "512/512 [==============================] - 0s 29us/step - loss: 0.0462 - acc: 0.9883\n",
      "Epoch 146/150\n",
      "512/512 [==============================] - 0s 27us/step - loss: 0.0494 - acc: 0.9824\n",
      "Epoch 147/150\n",
      "512/512 [==============================] - 0s 20us/step - loss: 0.0445 - acc: 0.9844\n",
      "Epoch 148/150\n",
      "512/512 [==============================] - 0s 29us/step - loss: 0.0506 - acc: 0.9863\n",
      "Epoch 149/150\n",
      "512/512 [==============================] - 0s 25us/step - loss: 0.0497 - acc: 0.9883\n",
      "Epoch 150/150\n",
      "512/512 [==============================] - 0s 20us/step - loss: 0.0446 - acc: 0.9824\n"
     ]
    },
    {
     "data": {
      "text/plain": [
       "<keras.callbacks.History at 0x12222d30>"
      ]
     },
     "execution_count": 36,
     "metadata": {},
     "output_type": "execute_result"
    }
   ],
   "source": [
    "# Write Python Code here:\n",
    "ann2.fit(X_train, y_train, batch_size=100, nb_epoch=150)\n"
   ]
  },
  {
   "cell_type": "markdown",
   "metadata": {},
   "source": [
    "### <font color='blue'> Question 2: Calculate accuracy, confusion matrix and all the metrics included in classification_report function (15 marks) </font>"
   ]
  },
  {
   "cell_type": "code",
   "execution_count": 37,
   "metadata": {},
   "outputs": [],
   "source": [
    "# Write Python Code here:\n",
    "# Compiling the ANN\n",
    "# Predicting the Test set results\n",
    "y_pred = ann2.predict(X_test)\n",
    "y_pred = (y_pred > 0.5)"
   ]
  },
  {
   "cell_type": "code",
   "execution_count": 38,
   "metadata": {},
   "outputs": [],
   "source": [
    "# Making the Confusion Matrix\n",
    "from sklearn.metrics import confusion_matrix\n",
    "cm = confusion_matrix(y_test, y_pred)"
   ]
  },
  {
   "cell_type": "code",
   "execution_count": 39,
   "metadata": {},
   "outputs": [
    {
     "name": "stdout",
     "output_type": "stream",
     "text": [
      "Our accuracy is 100.0%\n"
     ]
    }
   ],
   "source": [
    "print(\"Our accuracy is {}%\".format(((cm[0][0] + cm[1][1])/57)*100))\n"
   ]
  },
  {
   "cell_type": "code",
   "execution_count": 40,
   "metadata": {},
   "outputs": [
    {
     "data": {
      "image/png": "[encoded data removed]",
      "text/plain": [
       "<Figure size 432x288 with 2 Axes>"
      ]
     },
     "metadata": {},
     "output_type": "display_data"
    }
   ],
   "source": [
    "sns.heatmap(cm,annot=True)\n",
    "plt.savefig('h.png')"
   ]
  },
  {
   "cell_type": "markdown",
   "metadata": {},
   "source": [
    "### <font color='blue'> Question 3: Write the conclusions about the performance and potential use of this classifier (15 marks) </font>"
   ]
  },
  {
   "cell_type": "markdown",
   "metadata": {},
   "source": [
    "<b> Write answer here:</b>\n",
    "#####################################################################################################################\n",
    "\n",
    "(Double-click here)\n",
    "\n",
    "\n",
    "#####################################################################################################################"
   ]
  },
  {
   "cell_type": "markdown",
   "metadata": {},
   "source": [
    "<div class=\"alert alert-block alert-warning\">**End Activity**</div>"
   ]
  }
 ],
 "metadata": {
  "kernelspec": {
   "display_name": "Python 3",
   "language": "python",
   "name": "python3"
  },
  "language_info": {
   "codemirror_mode": {
    "name": "ipython",
    "version": 3
   },
   "file_extension": ".py",
   "mimetype": "text/x-python",
   "name": "python",
   "nbconvert_exporter": "python",
   "pygments_lexer": "ipython3",
   "version": "3.6.4"
  }
 },
 "nbformat": 4,
 "nbformat_minor": 2
}
