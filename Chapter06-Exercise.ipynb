{
 "cells": [
  {
   "cell_type": "markdown",
   "metadata": {},
   "source": [
    "![alt text](images/HDAT9500Banner.PNG)\n",
    "<br>\n",
    "\n",
    "# Chapter 6: Artificial Neural Networks / Deep Learning\n",
    "# Exercise 01: \n",
    "\n",
    "\n",
    "# 1. Introduction\n",
    "\n",
    "In this exercise, we will build our first dense neural network using Keras.\n",
    "\n",
    "\n",
    "## 1.1. Aims of the Exercise:\n",
    "\n",
    "1. This is an introduction to Artificial Neural Networks / Deep Learning. \n",
    "2. We will use Keras, a high-level API built on top of low level neural networks APIs such as Tensorflow and Theano. Keras takes care of many things and it is easy to use.\n",
    "\n",
    " \n",
    "It aligns with all of the learning outcomes of our course: \n",
    "\n",
    "1.\tDistinguish a range of task specific machine learning techniques appropriate for Health Data Science.\n",
    "2.\tDesign machine learning tasks for Health Data Science scenarios.\n",
    "3.\tConstruct appropriate training and test sets for health research data.\n",
    "\n",
    "\n",
    "## 1.2. Jupyter Notebook Intructions\n",
    "1. Read the content of each cell.\n",
    "2. Where necessary, follow the instructions that are written in each cell.\n",
    "3. Run/Execute all the cells that contain Python code sequentially (one at a time), using the \"Run\" button.\n",
    "4. For those cells in which you are asked to write some code, please write the Python code first and then execute/run the cell.\n",
    " \n",
    "## 1.3. Tips\n",
    " 1. The square brackets on the left hand side of each cell indicate whether the cell has been executed or not. Empty square brackets mean that the cell has not been executed, whereas square brackets that contain a number means that the cell has been executed. Run all the cells in sequence, using the \"Run\" button.\n",
    " 2. To edit this notebook, just double-click in each cell. In the document, each cell can be a \"Code\" cell or \"text-Markdown\" cell. To choose between these two options, go to the combo-box above. \n",
    " 3. If you want to save your notebook, please make sure you press the \"floppy disk\" icon button above. \n",
    " 4. To clean the content of all cells and re-start the Notebook, please go to Cell->All Output->Clear\n"
   ]
  },
  {
   "cell_type": "markdown",
   "metadata": {},
   "source": [
    "# 2. Load the Wisconsin Cancer Data Set and Prepare the data\n",
    "\n",
    "For data dictionary and all information:\n",
    "https://archive.ics.uci.edu/ml/datasets/Breast+Cancer+Wisconsin+(Diagnostic)"
   ]
  },
  {
   "cell_type": "code",
   "execution_count": 1,
   "metadata": {},
   "outputs": [
    {
     "name": "stdout",
     "output_type": "stream",
     "text": [
      "3.6.4 |Anaconda, Inc.| (default, Jan 16 2018, 10:22:32) [MSC v.1900 64 bit (AMD64)]\n"
     ]
    }
   ],
   "source": [
    "import sys\n",
    "print(sys.version)\n",
    "#For this notebook to work, Python must be 3.6.4 or 3.6.5\n",
    "\n",
    "import numpy as np\n",
    "import pandas as pd\n",
    "from IPython.display import display\n",
    "\n",
    "from plotnine import *\n",
    "import matplotlib.pyplot as plt\n",
    "import seaborn as sns"
   ]
  },
  {
   "cell_type": "code",
   "execution_count": 2,
   "metadata": {},
   "outputs": [],
   "source": [
    "cancer = pd.read_csv('data/breast-cancer-wisconsin-data/data.csv', sep=',')"
   ]
  },
  {
   "cell_type": "code",
   "execution_count": 3,
   "metadata": {},
   "outputs": [
    {
     "data": {
      "text/html": [
       "<div>\n",
       "<style scoped>\n",
       "    .dataframe tbody tr th:only-of-type {\n",
       "        vertical-align: middle;\n",
       "    }\n",
       "\n",
       "    .dataframe tbody tr th {\n",
       "        vertical-align: top;\n",
       "    }\n",
       "\n",
       "    .dataframe thead th {\n",
       "        text-align: right;\n",
       "    }\n",
       "</style>\n",
       "<table border=\"1\" class=\"dataframe\">\n",
       "  <thead>\n",
       "    <tr style=\"text-align: right;\">\n",
       "      <th></th>\n",
       "      <th>id</th>\n",
       "      <th>diagnosis</th>\n",
       "      <th>radius_mean</th>\n",
       "      <th>texture_mean</th>\n",
       "      <th>perimeter_mean</th>\n",
       "      <th>area_mean</th>\n",
       "      <th>smoothness_mean</th>\n",
       "      <th>compactness_mean</th>\n",
       "      <th>concavity_mean</th>\n",
       "      <th>concave points_mean</th>\n",
       "      <th>...</th>\n",
       "      <th>radius_worst</th>\n",
       "      <th>texture_worst</th>\n",
       "      <th>perimeter_worst</th>\n",
       "      <th>area_worst</th>\n",
       "      <th>smoothness_worst</th>\n",
       "      <th>compactness_worst</th>\n",
       "      <th>concavity_worst</th>\n",
       "      <th>concave points_worst</th>\n",
       "      <th>symmetry_worst</th>\n",
       "      <th>fractal_dimension_worst</th>\n",
       "    </tr>\n",
       "  </thead>\n",
       "  <tbody>\n",
       "    <tr>\n",
       "      <th>0</th>\n",
       "      <td>842302</td>\n",
       "      <td>M</td>\n",
       "      <td>17.99</td>\n",
       "      <td>10.38</td>\n",
       "      <td>122.80</td>\n",
       "      <td>1001.0</td>\n",
       "      <td>0.11840</td>\n",
       "      <td>0.27760</td>\n",
       "      <td>0.3001</td>\n",
       "      <td>0.14710</td>\n",
       "      <td>...</td>\n",
       "      <td>25.38</td>\n",
       "      <td>17.33</td>\n",
       "      <td>184.60</td>\n",
       "      <td>2019.0</td>\n",
       "      <td>0.1622</td>\n",
       "      <td>0.6656</td>\n",
       "      <td>0.7119</td>\n",
       "      <td>0.2654</td>\n",
       "      <td>0.4601</td>\n",
       "      <td>0.11890</td>\n",
       "    </tr>\n",
       "    <tr>\n",
       "      <th>1</th>\n",
       "      <td>842517</td>\n",
       "      <td>M</td>\n",
       "      <td>20.57</td>\n",
       "      <td>17.77</td>\n",
       "      <td>132.90</td>\n",
       "      <td>1326.0</td>\n",
       "      <td>0.08474</td>\n",
       "      <td>0.07864</td>\n",
       "      <td>0.0869</td>\n",
       "      <td>0.07017</td>\n",
       "      <td>...</td>\n",
       "      <td>24.99</td>\n",
       "      <td>23.41</td>\n",
       "      <td>158.80</td>\n",
       "      <td>1956.0</td>\n",
       "      <td>0.1238</td>\n",
       "      <td>0.1866</td>\n",
       "      <td>0.2416</td>\n",
       "      <td>0.1860</td>\n",
       "      <td>0.2750</td>\n",
       "      <td>0.08902</td>\n",
       "    </tr>\n",
       "    <tr>\n",
       "      <th>2</th>\n",
       "      <td>84300903</td>\n",
       "      <td>M</td>\n",
       "      <td>19.69</td>\n",
       "      <td>21.25</td>\n",
       "      <td>130.00</td>\n",
       "      <td>1203.0</td>\n",
       "      <td>0.10960</td>\n",
       "      <td>0.15990</td>\n",
       "      <td>0.1974</td>\n",
       "      <td>0.12790</td>\n",
       "      <td>...</td>\n",
       "      <td>23.57</td>\n",
       "      <td>25.53</td>\n",
       "      <td>152.50</td>\n",
       "      <td>1709.0</td>\n",
       "      <td>0.1444</td>\n",
       "      <td>0.4245</td>\n",
       "      <td>0.4504</td>\n",
       "      <td>0.2430</td>\n",
       "      <td>0.3613</td>\n",
       "      <td>0.08758</td>\n",
       "    </tr>\n",
       "    <tr>\n",
       "      <th>3</th>\n",
       "      <td>84348301</td>\n",
       "      <td>M</td>\n",
       "      <td>11.42</td>\n",
       "      <td>20.38</td>\n",
       "      <td>77.58</td>\n",
       "      <td>386.1</td>\n",
       "      <td>0.14250</td>\n",
       "      <td>0.28390</td>\n",
       "      <td>0.2414</td>\n",
       "      <td>0.10520</td>\n",
       "      <td>...</td>\n",
       "      <td>14.91</td>\n",
       "      <td>26.50</td>\n",
       "      <td>98.87</td>\n",
       "      <td>567.7</td>\n",
       "      <td>0.2098</td>\n",
       "      <td>0.8663</td>\n",
       "      <td>0.6869</td>\n",
       "      <td>0.2575</td>\n",
       "      <td>0.6638</td>\n",
       "      <td>0.17300</td>\n",
       "    </tr>\n",
       "    <tr>\n",
       "      <th>4</th>\n",
       "      <td>84358402</td>\n",
       "      <td>M</td>\n",
       "      <td>20.29</td>\n",
       "      <td>14.34</td>\n",
       "      <td>135.10</td>\n",
       "      <td>1297.0</td>\n",
       "      <td>0.10030</td>\n",
       "      <td>0.13280</td>\n",
       "      <td>0.1980</td>\n",
       "      <td>0.10430</td>\n",
       "      <td>...</td>\n",
       "      <td>22.54</td>\n",
       "      <td>16.67</td>\n",
       "      <td>152.20</td>\n",
       "      <td>1575.0</td>\n",
       "      <td>0.1374</td>\n",
       "      <td>0.2050</td>\n",
       "      <td>0.4000</td>\n",
       "      <td>0.1625</td>\n",
       "      <td>0.2364</td>\n",
       "      <td>0.07678</td>\n",
       "    </tr>\n",
       "  </tbody>\n",
       "</table>\n",
       "<p>5 rows × 32 columns</p>\n",
       "</div>"
      ],
      "text/plain": [
       "         id diagnosis  radius_mean  texture_mean  perimeter_mean  area_mean  \\\n",
       "0    842302         M        17.99         10.38          122.80     1001.0   \n",
       "1    842517         M        20.57         17.77          132.90     1326.0   \n",
       "2  84300903         M        19.69         21.25          130.00     1203.0   \n",
       "3  84348301         M        11.42         20.38           77.58      386.1   \n",
       "4  84358402         M        20.29         14.34          135.10     1297.0   \n",
       "\n",
       "   smoothness_mean  compactness_mean  concavity_mean  concave points_mean  \\\n",
       "0          0.11840           0.27760          0.3001              0.14710   \n",
       "1          0.08474           0.07864          0.0869              0.07017   \n",
       "2          0.10960           0.15990          0.1974              0.12790   \n",
       "3          0.14250           0.28390          0.2414              0.10520   \n",
       "4          0.10030           0.13280          0.1980              0.10430   \n",
       "\n",
       "            ...             radius_worst  texture_worst  perimeter_worst  \\\n",
       "0           ...                    25.38          17.33           184.60   \n",
       "1           ...                    24.99          23.41           158.80   \n",
       "2           ...                    23.57          25.53           152.50   \n",
       "3           ...                    14.91          26.50            98.87   \n",
       "4           ...                    22.54          16.67           152.20   \n",
       "\n",
       "   area_worst  smoothness_worst  compactness_worst  concavity_worst  \\\n",
       "0      2019.0            0.1622             0.6656           0.7119   \n",
       "1      1956.0            0.1238             0.1866           0.2416   \n",
       "2      1709.0            0.1444             0.4245           0.4504   \n",
       "3       567.7            0.2098             0.8663           0.6869   \n",
       "4      1575.0            0.1374             0.2050           0.4000   \n",
       "\n",
       "   concave points_worst  symmetry_worst  fractal_dimension_worst  \n",
       "0                0.2654          0.4601                  0.11890  \n",
       "1                0.1860          0.2750                  0.08902  \n",
       "2                0.2430          0.3613                  0.08758  \n",
       "3                0.2575          0.6638                  0.17300  \n",
       "4                0.1625          0.2364                  0.07678  \n",
       "\n",
       "[5 rows x 32 columns]"
      ]
     },
     "metadata": {},
     "output_type": "display_data"
    },
    {
     "name": "stdout",
     "output_type": "stream",
     "text": [
      "(569, 32)\n"
     ]
    }
   ],
   "source": [
    "# Sanity Check:\n",
    "display(cancer[:][:5])\n",
    "print(cancer.shape)"
   ]
  },
  {
   "cell_type": "code",
   "execution_count": 4,
   "metadata": {
    "scrolled": true
   },
   "outputs": [
    {
     "data": {
      "text/plain": [
       "id                           int64\n",
       "diagnosis                   object\n",
       "radius_mean                float64\n",
       "texture_mean               float64\n",
       "perimeter_mean             float64\n",
       "area_mean                  float64\n",
       "smoothness_mean            float64\n",
       "compactness_mean           float64\n",
       "concavity_mean             float64\n",
       "concave points_mean        float64\n",
       "symmetry_mean              float64\n",
       "fractal_dimension_mean     float64\n",
       "radius_se                  float64\n",
       "texture_se                 float64\n",
       "perimeter_se               float64\n",
       "area_se                    float64\n",
       "smoothness_se              float64\n",
       "compactness_se             float64\n",
       "concavity_se               float64\n",
       "concave points_se          float64\n",
       "symmetry_se                float64\n",
       "fractal_dimension_se       float64\n",
       "radius_worst               float64\n",
       "texture_worst              float64\n",
       "perimeter_worst            float64\n",
       "area_worst                 float64\n",
       "smoothness_worst           float64\n",
       "compactness_worst          float64\n",
       "concavity_worst            float64\n",
       "concave points_worst       float64\n",
       "symmetry_worst             float64\n",
       "fractal_dimension_worst    float64\n",
       "dtype: object"
      ]
     },
     "execution_count": 4,
     "metadata": {},
     "output_type": "execute_result"
    }
   ],
   "source": [
    "cancer.dtypes"
   ]
  },
  {
   "cell_type": "code",
   "execution_count": 5,
   "metadata": {},
   "outputs": [],
   "source": [
    "# Divide the data into X and y (output, labels)\n",
    "X = cancer.iloc[:, 2:].values\n",
    "y_categorical = cancer.iloc[:, 1].values"
   ]
  },
  {
   "cell_type": "code",
   "execution_count": 6,
   "metadata": {},
   "outputs": [
    {
     "data": {
      "text/plain": [
       "array([[1.799e+01, 1.038e+01, 1.228e+02, 1.001e+03, 1.184e-01, 2.776e-01,\n",
       "        3.001e-01, 1.471e-01, 2.419e-01, 7.871e-02, 1.095e+00, 9.053e-01,\n",
       "        8.589e+00, 1.534e+02, 6.399e-03, 4.904e-02, 5.373e-02, 1.587e-02,\n",
       "        3.003e-02, 6.193e-03, 2.538e+01, 1.733e+01, 1.846e+02, 2.019e+03,\n",
       "        1.622e-01, 6.656e-01, 7.119e-01, 2.654e-01, 4.601e-01, 1.189e-01],\n",
       "       [2.057e+01, 1.777e+01, 1.329e+02, 1.326e+03, 8.474e-02, 7.864e-02,\n",
       "        8.690e-02, 7.017e-02, 1.812e-01, 5.667e-02, 5.435e-01, 7.339e-01,\n",
       "        3.398e+00, 7.408e+01, 5.225e-03, 1.308e-02, 1.860e-02, 1.340e-02,\n",
       "        1.389e-02, 3.532e-03, 2.499e+01, 2.341e+01, 1.588e+02, 1.956e+03,\n",
       "        1.238e-01, 1.866e-01, 2.416e-01, 1.860e-01, 2.750e-01, 8.902e-02],\n",
       "       [1.969e+01, 2.125e+01, 1.300e+02, 1.203e+03, 1.096e-01, 1.599e-01,\n",
       "        1.974e-01, 1.279e-01, 2.069e-01, 5.999e-02, 7.456e-01, 7.869e-01,\n",
       "        4.585e+00, 9.403e+01, 6.150e-03, 4.006e-02, 3.832e-02, 2.058e-02,\n",
       "        2.250e-02, 4.571e-03, 2.357e+01, 2.553e+01, 1.525e+02, 1.709e+03,\n",
       "        1.444e-01, 4.245e-01, 4.504e-01, 2.430e-01, 3.613e-01, 8.758e-02],\n",
       "       [1.142e+01, 2.038e+01, 7.758e+01, 3.861e+02, 1.425e-01, 2.839e-01,\n",
       "        2.414e-01, 1.052e-01, 2.597e-01, 9.744e-02, 4.956e-01, 1.156e+00,\n",
       "        3.445e+00, 2.723e+01, 9.110e-03, 7.458e-02, 5.661e-02, 1.867e-02,\n",
       "        5.963e-02, 9.208e-03, 1.491e+01, 2.650e+01, 9.887e+01, 5.677e+02,\n",
       "        2.098e-01, 8.663e-01, 6.869e-01, 2.575e-01, 6.638e-01, 1.730e-01],\n",
       "       [2.029e+01, 1.434e+01, 1.351e+02, 1.297e+03, 1.003e-01, 1.328e-01,\n",
       "        1.980e-01, 1.043e-01, 1.809e-01, 5.883e-02, 7.572e-01, 7.813e-01,\n",
       "        5.438e+00, 9.444e+01, 1.149e-02, 2.461e-02, 5.688e-02, 1.885e-02,\n",
       "        1.756e-02, 5.115e-03, 2.254e+01, 1.667e+01, 1.522e+02, 1.575e+03,\n",
       "        1.374e-01, 2.050e-01, 4.000e-01, 1.625e-01, 2.364e-01, 7.678e-02]])"
      ]
     },
     "metadata": {},
     "output_type": "display_data"
    }
   ],
   "source": [
    "# Sanity check\n",
    "display(X[:][:5])"
   ]
  },
  {
   "cell_type": "markdown",
   "metadata": {},
   "source": [
    "<div class=\"alert alert-block alert-success\">**Start Activity**</div>"
   ]
  },
  {
   "cell_type": "markdown",
   "metadata": {},
   "source": [
    "Pay attention to the shape of the input vector!!!!\n",
    "We will use it later in our ANN."
   ]
  },
  {
   "cell_type": "code",
   "execution_count": 7,
   "metadata": {},
   "outputs": [
    {
     "name": "stdout",
     "output_type": "stream",
     "text": [
      "(569, 30)\n"
     ]
    }
   ],
   "source": [
    " print(X.shape)"
   ]
  },
  {
   "cell_type": "markdown",
   "metadata": {},
   "source": [
    "### <font color='blue'> Question 1:  What is the meaning of (569,30)? Which features were removed from the original data?</font>"
   ]
  },
  {
   "cell_type": "markdown",
   "metadata": {},
   "source": [
    "<b> Write answer here:</b>\n",
    "#####################################################################################################################\n",
    "\n",
    "There are 569 records with 30 features.\n",
    "\n",
    "\n",
    "#####################################################################################################################"
   ]
  },
  {
   "cell_type": "markdown",
   "metadata": {},
   "source": [
    "<div class=\"alert alert-block alert-warning\">**End Activity**</div>"
   ]
  },
  {
   "cell_type": "code",
   "execution_count": 8,
   "metadata": {},
   "outputs": [
    {
     "data": {
      "text/plain": [
       "array(['M', 'M', 'M', 'M', 'M', 'M', 'M', 'M', 'M', 'M', 'M', 'M', 'M',\n",
       "       'M', 'M', 'M', 'M', 'M', 'M', 'B', 'B', 'B', 'M', 'M', 'M', 'M',\n",
       "       'M', 'M', 'M', 'M'], dtype=object)"
      ]
     },
     "metadata": {},
     "output_type": "display_data"
    },
    {
     "name": "stdout",
     "output_type": "stream",
     "text": [
      "(569,)\n"
     ]
    }
   ],
   "source": [
    "# Sanity check:\n",
    "# We can see that # 19, 20 and 21 are B within the array that goes from 0:29\n",
    "display(y_categorical[:30])\n",
    "print(y_categorical.shape)"
   ]
  },
  {
   "cell_type": "markdown",
   "metadata": {},
   "source": [
    "Encoding categorical data into 0-1"
   ]
  },
  {
   "cell_type": "code",
   "execution_count": 9,
   "metadata": {},
   "outputs": [],
   "source": [
    "# Encoding categorical data\n",
    "from sklearn.preprocessing import LabelEncoder\n",
    "labelencoder_X_1 = LabelEncoder()\n",
    "y = labelencoder_X_1.fit_transform(y_categorical)"
   ]
  },
  {
   "cell_type": "code",
   "execution_count": 10,
   "metadata": {},
   "outputs": [
    {
     "data": {
      "text/plain": [
       "array([1, 1, 1, 1, 1, 1, 1, 1, 1, 1, 1, 1, 1, 1, 1, 1, 1, 1, 1, 0, 0, 0,\n",
       "       1, 1, 1, 1, 1, 1, 1, 1], dtype=int64)"
      ]
     },
     "metadata": {},
     "output_type": "display_data"
    },
    {
     "name": "stdout",
     "output_type": "stream",
     "text": [
      "(569,)\n"
     ]
    }
   ],
   "source": [
    "# Sanity check\n",
    "# We can see that # 19, 20 and 21 are \"0\" within the array that goes from 0:29\n",
    "# Therefore, the sanity check confirms that we have done the encoding correctly\n",
    "display(y[:30])\n",
    "print(y.shape)"
   ]
  },
  {
   "cell_type": "markdown",
   "metadata": {},
   "source": [
    "Splitting the dataset into the Training set and Test set"
   ]
  },
  {
   "cell_type": "code",
   "execution_count": 11,
   "metadata": {},
   "outputs": [],
   "source": [
    "# Splitting the dataset into the Training set and Test set\n",
    "from sklearn.model_selection import train_test_split\n",
    "X_train, X_test, y_train, y_test = train_test_split(X, y, test_size = 0.2, random_state = 1)"
   ]
  },
  {
   "cell_type": "code",
   "execution_count": 12,
   "metadata": {},
   "outputs": [
    {
     "name": "stdout",
     "output_type": "stream",
     "text": [
      "(455, 30)\n",
      "(114, 30)\n"
     ]
    }
   ],
   "source": [
    "# Sanity Check\n",
    "print(X_train.shape)\n",
    "print(X_test.shape)"
   ]
  },
  {
   "cell_type": "markdown",
   "metadata": {},
   "source": [
    "<font color=red>Scaling</font>  our data is <font color=red> very important </font> when we use ANNs:"
   ]
  },
  {
   "cell_type": "code",
   "execution_count": 13,
   "metadata": {},
   "outputs": [],
   "source": [
    "# Very very very important: Feature Scaling\n",
    "from sklearn.preprocessing import StandardScaler\n",
    "sc = StandardScaler()\n",
    "X_train = sc.fit_transform(X_train)\n",
    "X_test = sc.transform(X_test)"
   ]
  },
  {
   "cell_type": "markdown",
   "metadata": {},
   "source": [
    "So far, everything is very familiar. We have used some new scikit learn instructions, but esentially, we have been following these steps during the course.\n",
    "\n",
    "The new part starts here:"
   ]
  },
  {
   "cell_type": "markdown",
   "metadata": {},
   "source": [
    "# 3. Our first ANN using Keras\n"
   ]
  },
  {
   "cell_type": "code",
   "execution_count": 14,
   "metadata": {},
   "outputs": [
    {
     "name": "stderr",
     "output_type": "stream",
     "text": [
      "C:\\Users\\akrus\\Anaconda3\\lib\\site-packages\\h5py\\__init__.py:36: FutureWarning: Conversion of the second argument of issubdtype from `float` to `np.floating` is deprecated. In future, it will be treated as `np.float64 == np.dtype(float).type`.\n",
      "  from ._conv import register_converters as _register_converters\n",
      "Using TensorFlow backend.\n"
     ]
    }
   ],
   "source": [
    "import keras\n",
    "from keras.models import Sequential\n",
    "from keras.layers import Dense, Dropout, Activation"
   ]
  },
  {
   "cell_type": "markdown",
   "metadata": {},
   "source": [
    "<div class=\"alert alert-block alert-success\">**Start Activity**</div>"
   ]
  },
  {
   "cell_type": "markdown",
   "metadata": {},
   "source": [
    "### <font color='blue'> Question 2: Initalise ANN: Check page 28 of the book we use in this chapter and write the command to initialise our first ANN </font>"
   ]
  },
  {
   "cell_type": "code",
   "execution_count": 15,
   "metadata": {},
   "outputs": [],
   "source": [
    "# Write Python Code here:\n",
    "from numpy.random import seed\n",
    "seed(4)\n",
    "from tensorflow import set_random_seed\n",
    "set_random_seed(9)"
   ]
  },
  {
   "cell_type": "code",
   "execution_count": 16,
   "metadata": {},
   "outputs": [
    {
     "name": "stdout",
     "output_type": "stream",
     "text": [
      "WARNING:tensorflow:From C:\\Users\\akrus\\Anaconda3\\lib\\site-packages\\keras\\backend\\tensorflow_backend.py:74: The name tf.get_default_graph is deprecated. Please use tf.compat.v1.get_default_graph instead.\n",
      "\n"
     ]
    }
   ],
   "source": [
    "ann1 = Sequential()"
   ]
  },
  {
   "cell_type": "markdown",
   "metadata": {},
   "source": [
    "### <font color='blue'> Question 3:  Add input layer and first hidden layer: Using the function add, create the input layer and first hidden layer with 16 nodes, a relu activation function. Use the argument input_dim </font>\n",
    "<p>\n",
    "<font color='green'>Page 28 of our book</font>\n",
    "<p>\n",
    "<font color='green'>Read here how to use the function \"add\" by using the argument input_dim: \n",
    "<p>\n",
    "    https://keras.io/getting-started/sequential-model-guide/</font>\n",
    "<p>\n",
    "<font color='green'> In addition, read:  \n",
    "     https://keras.io/layers/merge/#add_1</font>\n",
    "<p>\n",
    "<font color='green'> Function \"dense\":           \n",
    "    https://keras.io/layers/core/#dense"
   ]
  },
  {
   "cell_type": "code",
   "execution_count": 17,
   "metadata": {},
   "outputs": [
    {
     "name": "stdout",
     "output_type": "stream",
     "text": [
      "WARNING:tensorflow:From C:\\Users\\akrus\\Anaconda3\\lib\\site-packages\\keras\\backend\\tensorflow_backend.py:517: The name tf.placeholder is deprecated. Please use tf.compat.v1.placeholder instead.\n",
      "\n",
      "WARNING:tensorflow:From C:\\Users\\akrus\\Anaconda3\\lib\\site-packages\\keras\\backend\\tensorflow_backend.py:4138: The name tf.random_uniform is deprecated. Please use tf.random.uniform instead.\n",
      "\n"
     ]
    },
    {
     "name": "stderr",
     "output_type": "stream",
     "text": [
      "C:\\Users\\akrus\\Anaconda3\\lib\\site-packages\\ipykernel_launcher.py:2: UserWarning: Update your `Dense` call to the Keras 2 API: `Dense(kernel_initializer=\"uniform\", input_dim=30, units=16)`\n",
      "  \n"
     ]
    }
   ],
   "source": [
    "# Write Python Code here:\n",
    "ann1.add(Dense(output_dim = 16, kernel_initializer = 'uniform', input_dim = 30))\n",
    "ann1.add(Activation('relu'))"
   ]
  },
  {
   "cell_type": "markdown",
   "metadata": {},
   "source": [
    "### <font color='blue'> Question 4:  Add second hidden layer: Using the functions \"add\" and \"dense\", create a second layer with 16 nodes, a relu activation function.  </font>\n",
    "<p>\n",
    "<font color='green'>Page 28 of our book</font>\n",
    "<p>\n",
    "<font color='green'>Read here how to use the function \"add\" by using the argument input_dim: \n",
    "<p>\n",
    "    https://keras.io/getting-started/sequential-model-guide/</font>\n",
    "<p>\n",
    "<font color='green'> In addition, read:  \n",
    "     https://keras.io/layers/merge/#add_1</font>\n",
    "<p>\n",
    "<font color='green'> Function \"dense\":           \n",
    "    https://keras.io/layers/core/#dense"
   ]
  },
  {
   "cell_type": "code",
   "execution_count": 18,
   "metadata": {},
   "outputs": [
    {
     "name": "stderr",
     "output_type": "stream",
     "text": [
      "C:\\Users\\akrus\\Anaconda3\\lib\\site-packages\\ipykernel_launcher.py:2: UserWarning: Update your `Dense` call to the Keras 2 API: `Dense(kernel_initializer=\"uniform\", activation=\"relu\", units=16)`\n",
      "  \n"
     ]
    }
   ],
   "source": [
    "# Write Python Code here:\n",
    "ann1.add(Dense(output_dim = 16, kernel_initializer = 'uniform', activation = 'relu'))"
   ]
  },
  {
   "cell_type": "markdown",
   "metadata": {},
   "source": [
    "### <font color='blue'> Question 5:  Add output layer: Using the functions \"add\" and \"dense\". What activation function would you use and why?  </font>"
   ]
  },
  {
   "cell_type": "code",
   "execution_count": 19,
   "metadata": {},
   "outputs": [
    {
     "name": "stderr",
     "output_type": "stream",
     "text": [
      "C:\\Users\\akrus\\Anaconda3\\lib\\site-packages\\ipykernel_launcher.py:2: UserWarning: Update your `Dense` call to the Keras 2 API: `Dense(kernel_initializer=\"uniform\", activation=\"sigmoid\", units=1)`\n",
      "  \n"
     ]
    }
   ],
   "source": [
    "# Write Python Code here:\n",
    "ann1.add(Dense(output_dim=1, kernel_initializer='uniform', activation = 'sigmoid'))"
   ]
  },
  {
   "cell_type": "markdown",
   "metadata": {},
   "source": [
    "### <font color='blue'> Question 6: Compile our model.  Use gradient descent, for example \"adam\" for the optimizer, for the optimizer, \"binary_crossentropy\" as the loss function, and accuracy as our metric.  </font>"
   ]
  },
  {
   "cell_type": "code",
   "execution_count": 25,
   "metadata": {},
   "outputs": [],
   "source": [
    "# Write Python Code here:\n",
    "# Compiling the ANN\n",
    "ann1.compile(optimizer = 'adam',\n",
    "            loss = 'binary_crossentropy',\n",
    "            metrics = ['accuracy']\n",
    "            )"
   ]
  },
  {
   "cell_type": "markdown",
   "metadata": {},
   "source": [
    "### <font color='blue'> Question 7: Fitting the ANN to the Training set. Set the batch_size=100, nb_epoch=150. These hyper-parameters have to be tuned. These numbers have been optimised already. How much accuracy does the model obtain in the training test?</font>\n",
    "<p>\n",
    "<font color='blue'>Note: batch_size, nb_epoch can be tuned using GridSearchCV or trial and error. We will tune these parameters in the course final assignment.\n",
    "</font>"
   ]
  },
  {
   "cell_type": "code",
   "execution_count": 26,
   "metadata": {},
   "outputs": [
    {
     "name": "stdout",
     "output_type": "stream",
     "text": [
      "Epoch 1/150\n",
      "455/455 [==============================] - 1s 2ms/step - loss: 0.6926 - acc: 0.6088\n",
      "Epoch 2/150\n",
      "455/455 [==============================] - 0s 37us/step - loss: 0.6905 - acc: 0.6637\n",
      "Epoch 3/150\n",
      "455/455 [==============================] - 0s 37us/step - loss: 0.6876 - acc: 0.6967\n",
      "Epoch 4/150\n",
      "455/455 [==============================] - 0s 44us/step - loss: 0.6833 - acc: 0.7626\n",
      "Epoch 5/150\n",
      "455/455 [==============================] - 0s 41us/step - loss: 0.6765 - acc: 0.8352\n",
      "Epoch 6/150\n",
      "455/455 [==============================] - 0s 35us/step - loss: 0.6670 - acc: 0.8813\n",
      "Epoch 7/150\n",
      "455/455 [==============================] - 0s 46us/step - loss: 0.6534 - acc: 0.9209\n",
      "Epoch 8/150\n",
      "455/455 [==============================] - 0s 46us/step - loss: 0.6344 - acc: 0.9363\n",
      "Epoch 9/150\n",
      "455/455 [==============================] - 0s 44us/step - loss: 0.6103 - acc: 0.9451\n",
      "Epoch 10/150\n",
      "455/455 [==============================] - 0s 42us/step - loss: 0.5788 - acc: 0.9407\n",
      "Epoch 11/150\n",
      "455/455 [==============================] - 0s 46us/step - loss: 0.5418 - acc: 0.9385\n",
      "Epoch 12/150\n",
      "455/455 [==============================] - 0s 50us/step - loss: 0.4982 - acc: 0.9429\n",
      "Epoch 13/150\n",
      "455/455 [==============================] - 0s 44us/step - loss: 0.4510 - acc: 0.9473\n",
      "Epoch 14/150\n",
      "455/455 [==============================] - 0s 53us/step - loss: 0.4033 - acc: 0.9429\n",
      "Epoch 15/150\n",
      "455/455 [==============================] - 0s 46us/step - loss: 0.3561 - acc: 0.9429\n",
      "Epoch 16/150\n",
      "455/455 [==============================] - 0s 39us/step - loss: 0.3119 - acc: 0.9429\n",
      "Epoch 17/150\n",
      "455/455 [==============================] - 0s 46us/step - loss: 0.2734 - acc: 0.9407\n",
      "Epoch 18/150\n",
      "455/455 [==============================] - 0s 44us/step - loss: 0.2412 - acc: 0.9451\n",
      "Epoch 19/150\n",
      "455/455 [==============================] - 0s 46us/step - loss: 0.2141 - acc: 0.9451\n",
      "Epoch 20/150\n",
      "455/455 [==============================] - 0s 42us/step - loss: 0.1914 - acc: 0.9495\n",
      "Epoch 21/150\n",
      "455/455 [==============================] - 0s 41us/step - loss: 0.1734 - acc: 0.9495\n",
      "Epoch 22/150\n",
      "455/455 [==============================] - 0s 44us/step - loss: 0.1580 - acc: 0.9560\n",
      "Epoch 23/150\n",
      "455/455 [==============================] - 0s 39us/step - loss: 0.1455 - acc: 0.9604\n",
      "Epoch 24/150\n",
      "455/455 [==============================] - 0s 39us/step - loss: 0.1352 - acc: 0.9626\n",
      "Epoch 25/150\n",
      "455/455 [==============================] - 0s 47us/step - loss: 0.1266 - acc: 0.9692\n",
      "Epoch 26/150\n",
      "455/455 [==============================] - 0s 56us/step - loss: 0.1190 - acc: 0.9714\n",
      "Epoch 27/150\n",
      "455/455 [==============================] - 0s 54us/step - loss: 0.1130 - acc: 0.9736\n",
      "Epoch 28/150\n",
      "455/455 [==============================] - 0s 33us/step - loss: 0.1074 - acc: 0.9736\n",
      "Epoch 29/150\n",
      "455/455 [==============================] - 0s 52us/step - loss: 0.1022 - acc: 0.9758\n",
      "Epoch 30/150\n",
      "455/455 [==============================] - 0s 49us/step - loss: 0.0985 - acc: 0.9758\n",
      "Epoch 31/150\n",
      "455/455 [==============================] - 0s 55us/step - loss: 0.0946 - acc: 0.9780\n",
      "Epoch 32/150\n",
      "455/455 [==============================] - 0s 50us/step - loss: 0.0911 - acc: 0.9780\n",
      "Epoch 33/150\n",
      "455/455 [==============================] - 0s 53us/step - loss: 0.0879 - acc: 0.9780\n",
      "Epoch 34/150\n",
      "455/455 [==============================] - 0s 53us/step - loss: 0.0849 - acc: 0.9780\n",
      "Epoch 35/150\n",
      "455/455 [==============================] - 0s 48us/step - loss: 0.0824 - acc: 0.9802\n",
      "Epoch 36/150\n",
      "455/455 [==============================] - 0s 50us/step - loss: 0.0799 - acc: 0.9824\n",
      "Epoch 37/150\n",
      "455/455 [==============================] - 0s 42us/step - loss: 0.0775 - acc: 0.9846\n",
      "Epoch 38/150\n",
      "455/455 [==============================] - 0s 44us/step - loss: 0.0755 - acc: 0.9846\n",
      "Epoch 39/150\n",
      "455/455 [==============================] - 0s 41us/step - loss: 0.0736 - acc: 0.9846\n",
      "Epoch 40/150\n",
      "455/455 [==============================] - 0s 33us/step - loss: 0.0718 - acc: 0.9846\n",
      "Epoch 41/150\n",
      "455/455 [==============================] - 0s 44us/step - loss: 0.0703 - acc: 0.9868\n",
      "Epoch 42/150\n",
      "455/455 [==============================] - 0s 50us/step - loss: 0.0686 - acc: 0.9868\n",
      "Epoch 43/150\n",
      "455/455 [==============================] - 0s 33us/step - loss: 0.0671 - acc: 0.9868\n",
      "Epoch 44/150\n",
      "455/455 [==============================] - 0s 44us/step - loss: 0.0658 - acc: 0.9868\n",
      "Epoch 45/150\n",
      "455/455 [==============================] - 0s 46us/step - loss: 0.0645 - acc: 0.9868\n",
      "Epoch 46/150\n",
      "455/455 [==============================] - 0s 46us/step - loss: 0.0634 - acc: 0.9868\n",
      "Epoch 47/150\n",
      "455/455 [==============================] - 0s 50us/step - loss: 0.0621 - acc: 0.9868\n",
      "Epoch 48/150\n",
      "455/455 [==============================] - 0s 48us/step - loss: 0.0611 - acc: 0.9868\n",
      "Epoch 49/150\n",
      "455/455 [==============================] - 0s 46us/step - loss: 0.0600 - acc: 0.9868\n",
      "Epoch 50/150\n",
      "455/455 [==============================] - 0s 60us/step - loss: 0.0591 - acc: 0.9890\n",
      "Epoch 51/150\n",
      "455/455 [==============================] - 0s 48us/step - loss: 0.0582 - acc: 0.9890\n",
      "Epoch 52/150\n",
      "455/455 [==============================] - 0s 46us/step - loss: 0.0574 - acc: 0.9890\n",
      "Epoch 53/150\n",
      "455/455 [==============================] - 0s 37us/step - loss: 0.0565 - acc: 0.9890\n",
      "Epoch 54/150\n",
      "455/455 [==============================] - 0s 35us/step - loss: 0.0558 - acc: 0.9890\n",
      "Epoch 55/150\n",
      "455/455 [==============================] - 0s 37us/step - loss: 0.0551 - acc: 0.9890\n",
      "Epoch 56/150\n",
      "455/455 [==============================] - 0s 48us/step - loss: 0.0543 - acc: 0.9890\n",
      "Epoch 57/150\n",
      "455/455 [==============================] - 0s 45us/step - loss: 0.0536 - acc: 0.9890\n",
      "Epoch 58/150\n",
      "455/455 [==============================] - 0s 39us/step - loss: 0.0530 - acc: 0.9890\n",
      "Epoch 59/150\n",
      "455/455 [==============================] - 0s 50us/step - loss: 0.0524 - acc: 0.9890\n",
      "Epoch 60/150\n",
      "455/455 [==============================] - 0s 35us/step - loss: 0.0518 - acc: 0.9890\n",
      "Epoch 61/150\n",
      "455/455 [==============================] - 0s 35us/step - loss: 0.0512 - acc: 0.9890\n",
      "Epoch 62/150\n",
      "455/455 [==============================] - 0s 39us/step - loss: 0.0506 - acc: 0.9890\n",
      "Epoch 63/150\n",
      "455/455 [==============================] - 0s 39us/step - loss: 0.0501 - acc: 0.9890\n",
      "Epoch 64/150\n",
      "455/455 [==============================] - 0s 35us/step - loss: 0.0495 - acc: 0.9890\n",
      "Epoch 65/150\n",
      "455/455 [==============================] - 0s 39us/step - loss: 0.0490 - acc: 0.9890\n",
      "Epoch 66/150\n",
      "455/455 [==============================] - 0s 36us/step - loss: 0.0484 - acc: 0.9890\n",
      "Epoch 67/150\n",
      "455/455 [==============================] - 0s 39us/step - loss: 0.0479 - acc: 0.9890\n",
      "Epoch 68/150\n",
      "455/455 [==============================] - 0s 37us/step - loss: 0.0474 - acc: 0.9890\n",
      "Epoch 69/150\n",
      "455/455 [==============================] - 0s 37us/step - loss: 0.0469 - acc: 0.9890\n",
      "Epoch 70/150\n",
      "455/455 [==============================] - 0s 48us/step - loss: 0.0464 - acc: 0.9890\n",
      "Epoch 71/150\n",
      "455/455 [==============================] - 0s 39us/step - loss: 0.0460 - acc: 0.9890\n",
      "Epoch 72/150\n",
      "455/455 [==============================] - 0s 43us/step - loss: 0.0455 - acc: 0.9890\n",
      "Epoch 73/150\n",
      "455/455 [==============================] - 0s 39us/step - loss: 0.0451 - acc: 0.9890\n",
      "Epoch 74/150\n",
      "455/455 [==============================] - 0s 42us/step - loss: 0.0447 - acc: 0.9890\n",
      "Epoch 75/150\n",
      "455/455 [==============================] - 0s 42us/step - loss: 0.0443 - acc: 0.9890\n",
      "Epoch 76/150\n",
      "455/455 [==============================] - 0s 44us/step - loss: 0.0438 - acc: 0.9890\n",
      "Epoch 77/150\n",
      "455/455 [==============================] - 0s 37us/step - loss: 0.0434 - acc: 0.9890\n",
      "Epoch 78/150\n",
      "455/455 [==============================] - 0s 39us/step - loss: 0.0429 - acc: 0.9890\n",
      "Epoch 79/150\n",
      "455/455 [==============================] - 0s 42us/step - loss: 0.0425 - acc: 0.9890\n",
      "Epoch 80/150\n",
      "455/455 [==============================] - 0s 42us/step - loss: 0.0421 - acc: 0.9912\n",
      "Epoch 81/150\n",
      "455/455 [==============================] - 0s 44us/step - loss: 0.0417 - acc: 0.9912\n",
      "Epoch 82/150\n",
      "455/455 [==============================] - 0s 37us/step - loss: 0.0414 - acc: 0.9912\n",
      "Epoch 83/150\n",
      "455/455 [==============================] - ETA: 0s - loss: 0.0244 - acc: 1.000 - 0s 39us/step - loss: 0.0410 - acc: 0.9912\n",
      "Epoch 84/150\n"
     ]
    },
    {
     "name": "stdout",
     "output_type": "stream",
     "text": [
      "455/455 [==============================] - 0s 39us/step - loss: 0.0406 - acc: 0.9912\n",
      "Epoch 85/150\n",
      "455/455 [==============================] - 0s 39us/step - loss: 0.0402 - acc: 0.9912\n",
      "Epoch 86/150\n",
      "455/455 [==============================] - 0s 39us/step - loss: 0.0399 - acc: 0.9912\n",
      "Epoch 87/150\n",
      "455/455 [==============================] - 0s 33us/step - loss: 0.0396 - acc: 0.9912\n",
      "Epoch 88/150\n",
      "455/455 [==============================] - 0s 42us/step - loss: 0.0391 - acc: 0.9912\n",
      "Epoch 89/150\n",
      "455/455 [==============================] - 0s 34us/step - loss: 0.0389 - acc: 0.9912\n",
      "Epoch 90/150\n",
      "455/455 [==============================] - 0s 35us/step - loss: 0.0384 - acc: 0.9912\n",
      "Epoch 91/150\n",
      "455/455 [==============================] - 0s 35us/step - loss: 0.0381 - acc: 0.9912\n",
      "Epoch 92/150\n",
      "455/455 [==============================] - 0s 35us/step - loss: 0.0378 - acc: 0.9912\n",
      "Epoch 93/150\n",
      "455/455 [==============================] - 0s 35us/step - loss: 0.0374 - acc: 0.9912\n",
      "Epoch 94/150\n",
      "455/455 [==============================] - 0s 36us/step - loss: 0.0370 - acc: 0.9912\n",
      "Epoch 95/150\n",
      "455/455 [==============================] - 0s 37us/step - loss: 0.0367 - acc: 0.9912\n",
      "Epoch 96/150\n",
      "455/455 [==============================] - 0s 37us/step - loss: 0.0363 - acc: 0.9912\n",
      "Epoch 97/150\n",
      "455/455 [==============================] - 0s 37us/step - loss: 0.0360 - acc: 0.9912\n",
      "Epoch 98/150\n",
      "455/455 [==============================] - 0s 37us/step - loss: 0.0357 - acc: 0.9934\n",
      "Epoch 99/150\n",
      "455/455 [==============================] - 0s 35us/step - loss: 0.0353 - acc: 0.9934\n",
      "Epoch 100/150\n",
      "455/455 [==============================] - 0s 35us/step - loss: 0.0350 - acc: 0.9934\n",
      "Epoch 101/150\n",
      "455/455 [==============================] - 0s 35us/step - loss: 0.0347 - acc: 0.9934\n",
      "Epoch 102/150\n",
      "455/455 [==============================] - 0s 35us/step - loss: 0.0344 - acc: 0.9934\n",
      "Epoch 103/150\n",
      "455/455 [==============================] - 0s 35us/step - loss: 0.0341 - acc: 0.9934\n",
      "Epoch 104/150\n",
      "455/455 [==============================] - 0s 35us/step - loss: 0.0337 - acc: 0.9934\n",
      "Epoch 105/150\n",
      "455/455 [==============================] - 0s 35us/step - loss: 0.0334 - acc: 0.9934\n",
      "Epoch 106/150\n",
      "455/455 [==============================] - 0s 35us/step - loss: 0.0331 - acc: 0.9934\n",
      "Epoch 107/150\n",
      "455/455 [==============================] - 0s 33us/step - loss: 0.0328 - acc: 0.9934\n",
      "Epoch 108/150\n",
      "455/455 [==============================] - 0s 33us/step - loss: 0.0325 - acc: 0.9934\n",
      "Epoch 109/150\n",
      "455/455 [==============================] - 0s 35us/step - loss: 0.0322 - acc: 0.9934\n",
      "Epoch 110/150\n",
      "455/455 [==============================] - 0s 36us/step - loss: 0.0319 - acc: 0.9934\n",
      "Epoch 111/150\n",
      "455/455 [==============================] - 0s 33us/step - loss: 0.0316 - acc: 0.9934\n",
      "Epoch 112/150\n",
      "455/455 [==============================] - 0s 33us/step - loss: 0.0313 - acc: 0.9934\n",
      "Epoch 113/150\n",
      "455/455 [==============================] - 0s 35us/step - loss: 0.0310 - acc: 0.9934\n",
      "Epoch 114/150\n",
      "455/455 [==============================] - 0s 35us/step - loss: 0.0308 - acc: 0.9934\n",
      "Epoch 115/150\n",
      "455/455 [==============================] - 0s 37us/step - loss: 0.0304 - acc: 0.9934\n",
      "Epoch 116/150\n",
      "455/455 [==============================] - 0s 33us/step - loss: 0.0301 - acc: 0.9934\n",
      "Epoch 117/150\n",
      "455/455 [==============================] - 0s 33us/step - loss: 0.0298 - acc: 0.9934\n",
      "Epoch 118/150\n",
      "455/455 [==============================] - 0s 35us/step - loss: 0.0296 - acc: 0.9934\n",
      "Epoch 119/150\n",
      "455/455 [==============================] - 0s 35us/step - loss: 0.0293 - acc: 0.9934\n",
      "Epoch 120/150\n",
      "455/455 [==============================] - 0s 33us/step - loss: 0.0290 - acc: 0.9934\n",
      "Epoch 121/150\n",
      "455/455 [==============================] - 0s 35us/step - loss: 0.0287 - acc: 0.9934\n",
      "Epoch 122/150\n",
      "455/455 [==============================] - 0s 37us/step - loss: 0.0284 - acc: 0.9934\n",
      "Epoch 123/150\n",
      "455/455 [==============================] - 0s 35us/step - loss: 0.0282 - acc: 0.9934\n",
      "Epoch 124/150\n",
      "455/455 [==============================] - 0s 34us/step - loss: 0.0279 - acc: 0.9934\n",
      "Epoch 125/150\n",
      "455/455 [==============================] - 0s 36us/step - loss: 0.0277 - acc: 0.9934\n",
      "Epoch 126/150\n",
      "455/455 [==============================] - 0s 35us/step - loss: 0.0274 - acc: 0.9934\n",
      "Epoch 127/150\n",
      "455/455 [==============================] - 0s 35us/step - loss: 0.0272 - acc: 0.9934\n",
      "Epoch 128/150\n",
      "455/455 [==============================] - 0s 33us/step - loss: 0.0269 - acc: 0.9934\n",
      "Epoch 129/150\n",
      "455/455 [==============================] - 0s 35us/step - loss: 0.0266 - acc: 0.9934\n",
      "Epoch 130/150\n",
      "455/455 [==============================] - 0s 37us/step - loss: 0.0264 - acc: 0.9956\n",
      "Epoch 131/150\n",
      "455/455 [==============================] - 0s 33us/step - loss: 0.0261 - acc: 0.9956\n",
      "Epoch 132/150\n",
      "455/455 [==============================] - 0s 35us/step - loss: 0.0259 - acc: 0.9956\n",
      "Epoch 133/150\n",
      "455/455 [==============================] - 0s 31us/step - loss: 0.0256 - acc: 0.9956\n",
      "Epoch 134/150\n",
      "455/455 [==============================] - 0s 32us/step - loss: 0.0253 - acc: 0.9956\n",
      "Epoch 135/150\n",
      "455/455 [==============================] - 0s 33us/step - loss: 0.0251 - acc: 0.9956\n",
      "Epoch 136/150\n",
      "455/455 [==============================] - 0s 31us/step - loss: 0.0249 - acc: 0.9956\n",
      "Epoch 137/150\n",
      "455/455 [==============================] - 0s 31us/step - loss: 0.0246 - acc: 0.9956\n",
      "Epoch 138/150\n",
      "455/455 [==============================] - 0s 37us/step - loss: 0.0244 - acc: 0.9956\n",
      "Epoch 139/150\n",
      "455/455 [==============================] - 0s 33us/step - loss: 0.0241 - acc: 0.9956\n",
      "Epoch 140/150\n",
      "455/455 [==============================] - 0s 33us/step - loss: 0.0239 - acc: 0.9956\n",
      "Epoch 141/150\n",
      "455/455 [==============================] - 0s 34us/step - loss: 0.0237 - acc: 0.9956\n",
      "Epoch 142/150\n",
      "455/455 [==============================] - 0s 34us/step - loss: 0.0234 - acc: 0.9956\n",
      "Epoch 143/150\n",
      "455/455 [==============================] - 0s 35us/step - loss: 0.0232 - acc: 0.9956\n",
      "Epoch 144/150\n",
      "455/455 [==============================] - 0s 35us/step - loss: 0.0229 - acc: 0.9956\n",
      "Epoch 145/150\n",
      "455/455 [==============================] - 0s 35us/step - loss: 0.0227 - acc: 0.9956\n",
      "Epoch 146/150\n",
      "455/455 [==============================] - 0s 36us/step - loss: 0.0225 - acc: 0.9956\n",
      "Epoch 147/150\n",
      "455/455 [==============================] - 0s 33us/step - loss: 0.0222 - acc: 0.9956\n",
      "Epoch 148/150\n",
      "455/455 [==============================] - 0s 35us/step - loss: 0.0220 - acc: 0.9956\n",
      "Epoch 149/150\n",
      "455/455 [==============================] - 0s 37us/step - loss: 0.0217 - acc: 0.9956\n",
      "Epoch 150/150\n",
      "455/455 [==============================] - 0s 33us/step - loss: 0.0216 - acc: 0.9956\n"
     ]
    },
    {
     "data": {
      "text/plain": [
       "<keras.callbacks.History at 0x1d1aeadb6a0>"
      ]
     },
     "execution_count": 26,
     "metadata": {},
     "output_type": "execute_result"
    }
   ],
   "source": [
    "# Write Python Code here:\n",
    "ann1.fit(X_train, y_train, epochs=150, batch_size=100)"
   ]
  },
  {
   "cell_type": "markdown",
   "metadata": {},
   "source": [
    "### <font color='blue'> Question 8: Can you define: batch_size=100, nb_epoch=150?</font>\n",
    "<p>\n",
    "<font color='blue'>Note: batch_size, nb_epoch can be tuned using GridSearchCV or trial and error. We will tune these parameters in the course final assignment.\n",
    "</font>"
   ]
  },
  {
   "cell_type": "markdown",
   "metadata": {},
   "source": [
    "<b> Write answer here:</b>\n",
    "#####################################################################################################################\n",
    "\n",
    "(Double-click here)\n",
    "\n",
    "\n",
    "#####################################################################################################################"
   ]
  },
  {
   "cell_type": "markdown",
   "metadata": {},
   "source": [
    "### <font color='blue'> Question 9: Calculate accuracy, confusion matrix and all the metrics included in classification_report function  </font>"
   ]
  },
  {
   "cell_type": "code",
   "execution_count": 29,
   "metadata": {},
   "outputs": [],
   "source": [
    "# Write Python Code here:\n",
    "# Compiling the ANN\n",
    "# Predicting the Test set results\n",
    "y_pred = ann1.predict_classes(X_test)"
   ]
  },
  {
   "cell_type": "code",
   "execution_count": 32,
   "metadata": {},
   "outputs": [
    {
     "name": "stdout",
     "output_type": "stream",
     "text": [
      "Confusion matrix of the benign only test set:\n",
      "[[71  1]\n",
      " [ 3 39]]\n"
     ]
    }
   ],
   "source": [
    "# Making the Confusion Matrix\n",
    "from sklearn.metrics import *\n",
    "\n",
    "print(\"Confusion matrix of the benign only test set:\")\n",
    "cm = confusion_matrix(y_true = y_test, y_pred = y_pred)\n",
    "print(cm)"
   ]
  },
  {
   "cell_type": "code",
   "execution_count": 33,
   "metadata": {},
   "outputs": [
    {
     "name": "stdout",
     "output_type": "stream",
     "text": [
      "Precision, Recall, F1-score for positive and negative classes of the combined benign and melignant test set:\n",
      "             precision    recall  f1-score   support\n",
      "\n",
      "          0       0.96      0.99      0.97        72\n",
      "          1       0.97      0.93      0.95        42\n",
      "\n",
      "avg / total       0.97      0.96      0.96       114\n",
      "\n",
      "Accuracy for combined benign and malignant test: 0.965.\n"
     ]
    }
   ],
   "source": [
    "print(\"Precision, Recall, F1-score for positive and negative classes of the combined benign and melignant test set:\")\n",
    "print(classification_report(y_test, y_pred))\n",
    "print('Accuracy for combined benign and malignant test: {:.3f}.'.format(accuracy_score(y_test, y_pred)))"
   ]
  },
  {
   "cell_type": "code",
   "execution_count": null,
   "metadata": {},
   "outputs": [],
   "source": []
  },
  {
   "cell_type": "code",
   "execution_count": null,
   "metadata": {},
   "outputs": [],
   "source": []
  },
  {
   "cell_type": "markdown",
   "metadata": {},
   "source": [
    "### <font color='blue'> Question 10: Write your conclusions about the performance and potential use of this classifier. </font>"
   ]
  },
  {
   "cell_type": "markdown",
   "metadata": {},
   "source": [
    "<b> Write answer here:</b>\n",
    "#####################################################################################################################\n",
    "\n",
    "(Double-click here)\n",
    "\n",
    "\n",
    "#####################################################################################################################"
   ]
  },
  {
   "cell_type": "markdown",
   "metadata": {},
   "source": [
    "<div class=\"alert alert-block alert-warning\">**End Activity**</div>"
   ]
  }
 ],
 "metadata": {
  "kernelspec": {
   "display_name": "Python 3",
   "language": "python",
   "name": "python3"
  },
  "language_info": {
   "codemirror_mode": {
    "name": "ipython",
    "version": 3
   },
   "file_extension": ".py",
   "mimetype": "text/x-python",
   "name": "python",
   "nbconvert_exporter": "python",
   "pygments_lexer": "ipython3",
   "version": "3.6.4"
  }
 },
 "nbformat": 4,
 "nbformat_minor": 2
}
